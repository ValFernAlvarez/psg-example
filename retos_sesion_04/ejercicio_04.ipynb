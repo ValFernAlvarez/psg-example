{
 "cells": [
  {
   "cell_type": "markdown",
   "id": "3428088b",
   "metadata": {},
   "source": [
    "## JUEGO DE MESA: TOQUE Y FAMA\n",
    "\n",
    "**Toque y Fama** es un juego de lógica y deducción para un grupo con 5 jugadores. Uno actúa como el \"host\", quien construye un número secreto de 4 cifras distintas seleccionando al azar cartas numeradas del 0 al 9. Los otros jugadores intentan adivinar dicho número mediante intentos sucesivos. Tras cada intento, el host indica cuántos números están en la posición correcta (**FAMA**) y cuántos están en la combinación pero en otra posición (**TOQUE**). El objetivo es descubrir el número en el menor número de intentos posibles."
   ]
  },
  {
   "cell_type": "markdown",
   "id": "57e4d58c",
   "metadata": {},
   "source": [
    "## REGLAS DEL JUEGO\n",
    "\n",
    "1. El jugador host baraja las **cartas numeradas del 0 al 9**.\n",
    "2. Toma al azar **4 cartas distintas** para formar el número secreto (sin repetir dígitos).\n",
    "3. Los otros jugadores (adivinadores) debe intentar descubrir ese número con intentos también de 4 cifras diferentes.\n",
    "4. Luego de cada intento, el host indica:\n",
    "   -Cuántas cifras están **en la posición correcta** (**FAMA**).\n",
    "   -Cuántas cifras están **en el número pero en posición incorrecta** (**TOQUE**).\n",
    "5. No se permiten cifras repetidas en ningún intento.\n",
    "6. El juego termina cuando se consigue adivinar el número (**4 FAMAS**).\n",
    "7. Gana quien adivina el número en menos turnos.\n"
   ]
  },
  {
   "cell_type": "code",
   "execution_count": null,
   "id": "7f5d49fd",
   "metadata": {},
   "outputs": [
    {
     "name": "stdout",
     "output_type": "stream",
     "text": [
      "TABLERO DE JUEGO: TOQUE Y FAMA\n",
      "|-------------------------------------------------------------|\n",
      "| TURNO |  NÚMERO  | TOQUES    | FAMAS       | \n",
      "|------------|----------------|---------------|----------------|\n",
      "|      1        |      ____       | [_][_][_][_] | [_][_][_][_] |\n",
      "|      2        |      ____       | [_][_][_][_] | [_][_][_][_] |\n",
      "|      3        |      ____       | [_][_][_][_] | [_][_][_][_] |\n",
      "|      4        |      ____       | [_][_][_][_] | [_][_][_][_] |\n",
      "|      5        |      ____       | [_][_][_][_] | [_][_][_][_] |\n",
      "|      6        |      ____       | [_][_][_][_] | [_][_][_][_] |\n",
      "|      7        |      ____       | [_][_][_][_] | [_][_][_][_] |\n",
      "|      8        |      ____       | [_][_][_][_] | [_][_][_][_] |\n",
      "|      9        |      ____       | [_][_][_][_] | [_][_][_][_] |\n",
      "|      10      |      ____       | [_][_][_][_] | [_][_][_][_] |\n",
      "|-------------------------------------------------------------|\n",
      "NOTA: Rellena '____' con tu intento. Los tableros son de acrílico. Por ende, se rellena con marcador de pizarra\n",
      "Usa las casillas de toque y fama para marcar con las fichas magnéticas.\n"
     ]
    }
   ],
   "source": [
    "print(\"TABLERO DE JUEGO: TOQUE Y FAMA\")\n",
    "print(\"|-------------------------------------------------------------|\")\n",
    "print(\"| TURNO |  NÚMERO  | TOQUES    | FAMAS       | \")\n",
    "print(\"|------------|----------------|---------------|----------------|\")\n",
    "print(\"|      1        |      ____       | [_][_][_][_] | [_][_][_][_] |\")\n",
    "print(\"|      2        |      ____       | [_][_][_][_] | [_][_][_][_] |\")\n",
    "print(\"|      3        |      ____       | [_][_][_][_] | [_][_][_][_] |\")\n",
    "print(\"|      4        |      ____       | [_][_][_][_] | [_][_][_][_] |\")\n",
    "print(\"|      5        |      ____       | [_][_][_][_] | [_][_][_][_] |\")\n",
    "print(\"|      6        |      ____       | [_][_][_][_] | [_][_][_][_] |\")\n",
    "print(\"|      7        |      ____       | [_][_][_][_] | [_][_][_][_] |\")\n",
    "print(\"|      8        |      ____       | [_][_][_][_] | [_][_][_][_] |\")\n",
    "print(\"|      9        |      ____       | [_][_][_][_] | [_][_][_][_] |\")\n",
    "print(\"|      10      |      ____       | [_][_][_][_] | [_][_][_][_] |\")\n",
    "print(\"|-------------------------------------------------------------|\")\n",
    "print(\"NOTA: Rellena '____' con tu intento. Los tableros son de acrílico. Por ende, se rellena con marcador de pizarra\")\n",
    "print(\"Usa las casillas de TOQUE y FAMA para marcar con las fichas magnéticas.\")\n",
    "\n",
    "\n"
   ]
  },
  {
   "cell_type": "markdown",
   "id": "f2a6f869",
   "metadata": {},
   "source": [
    "## PIEZAS DEL JUEGO\n",
    "\n",
    "- **Cartas de dígitos del 0 al 9**: Se usan para formar el número secreto al azar.\n",
    "- **Soporte tipo tent-fold**: El jugador host coloca las 4 cartas del número secreto detrás del tent  fold, de modo que solo él pueda verlas mientras permanecen ocultas para el adivinador.\n",
    "- **Fichas redondas magnéticas rojas**: Representan \"fama\" (número correcto en posición correcta).\n",
    "- **Fichas redondad magnéticas amarillas**: Representan \"toque\" (número correcto en posición incorrecta).\n",
    "- **Tableros de intentos**: 5 tableros acríclicos distribuidos entre los jugadores. Este es el espacio donde el jugador anota sus intentos y observa el progreso."
   ]
  },
  {
   "cell_type": "code",
   "execution_count": 46,
   "id": "1aef11fa",
   "metadata": {},
   "outputs": [
    {
     "name": "stdout",
     "output_type": "stream",
     "text": [
      "PIEZAS DEL JUEGO\n",
      "\n",
      "1. Cartas de dígitos del 0 al 9:\n",
      "┌───────┐  ┌───────┐ ┌───────┐ ┌───────┐ ┌───────┐ ┌───────┐ ┌───────┐ ┌───────┐ ┌───────┐ ┌───────┐\n",
      "│                    │ │                    │ │                    │ │                    │ │                    │ │                    │ │                    │ │                    │ │                    │ │                    │ \n",
      "│         0         │ │         1         │ │          2        │ │          3        │ │         4         │ │          5        │ │         6         │ │         7         │ │          8        │ │          9        │ \n",
      "│                    │ │                    │ │                    │ │                    │ │                    │ │                    │ │                    │ │                    │ │                    │ │                    │ \n",
      "└───────┘  └───────┘ └───────┘ └───────┘ └───────┘ └───────┘ └───────┘ └───────┘ └───────┘ └───────┘\n",
      "\n",
      "2. Soporte tipo tent-fold (para esconder las cartas con el número):\n",
      "       /‾‾‾‾‾‾‾‾‾‾‾‾‾‾‾‾‾‾‾‾‾‾‾‾‾‾‾‾‾‾‾‾‾‾‾/│\n",
      "      / / ‾‾‾‾‾‾/ / ‾‾‾‾‾‾/ / ‾‾‾‾‾/ / ‾‾‾‾/  / │\n",
      "     / /    0   / /    1   / /  2   / /  3   /  /  │\n",
      "    / /____/ /____/ /____/ /____/  /__│\n",
      "   /_______________________/\n",
      "\n",
      "3. Fichas redondas magnéticas rojas (FAMA): \n",
      "◉\n",
      "\n",
      "4. Fichas redondas magnéticas amarillas (TOQUE): \n",
      "●\n",
      "\n",
      "5. Tableros de intentos (5 acrílicos por jugador):\n",
      "Ver sección correspondiente en 'TABLERO DE JUEGO: TOQUE Y FAMA'.\n"
     ]
    }
   ],
   "source": [
    "print(\"PIEZAS DEL JUEGO\")\n",
    "print()\n",
    "print(\"1. Cartas de dígitos del 0 al 9:\")\n",
    "print(\"┌───────┐  ┌───────┐ ┌───────┐ ┌───────┐ ┌───────┐ ┌───────┐ ┌───────┐ ┌───────┐ ┌───────┐ ┌───────┐\")\n",
    "print(\"│                    │ │                    │ │                    │ │                    │ │                    │ │                    │ │                    │ │                    │ │                    │ │                    │ \")\n",
    "print(\"│         0         │ │         1         │ │          2        │ │          3        │ │         4         │ │          5        │ │         6         │ │         7         │ │          8        │ │          9        │ \")\n",
    "print(\"│                    │ │                    │ │                    │ │                    │ │                    │ │                    │ │                    │ │                    │ │                    │ │                    │ \")\n",
    "print(\"└───────┘  └───────┘ └───────┘ └───────┘ └───────┘ └───────┘ └───────┘ └───────┘ └───────┘ └───────┘\")\n",
    "print()\n",
    "print(\"2. Soporte tipo tent-fold (para esconder las cartas con el número):\")\n",
    "print(\"       /‾‾‾‾‾‾‾‾‾‾‾‾‾‾‾‾‾‾‾‾‾‾‾‾‾‾‾‾‾‾‾‾‾‾‾/│\")\n",
    "print(\"      / / ‾‾‾‾‾‾/ / ‾‾‾‾‾‾/ / ‾‾‾‾‾/ / ‾‾‾‾/  / │\")\n",
    "print(\"     / /    0   / /    1   / /  2   / /  3   /  /  │\")\n",
    "print(\"    / /____/ /____/ /____/ /____/  /__│\")              \n",
    "print(\"   /_______________________/\")\n",
    "print()\n",
    "print(\"3. Fichas redondas magnéticas rojas (FAMA): \")\n",
    "print(\"◉\")\n",
    "print()\n",
    "print(\"4. Fichas redondas magnéticas amarillas (TOQUE): \")\n",
    "print(\"●\")\n",
    "print()\n",
    "print(\"5. Tableros de intentos (5 acrílicos por jugador):\")\n",
    "print(\"Ver sección correspondiente en 'TABLERO DE JUEGO: TOQUE Y FAMA'.\")\n"
   ]
  }
 ],
 "metadata": {
  "kernelspec": {
   "display_name": "Python 3",
   "language": "python",
   "name": "python3"
  },
  "language_info": {
   "codemirror_mode": {
    "name": "ipython",
    "version": 3
   },
   "file_extension": ".py",
   "mimetype": "text/x-python",
   "name": "python",
   "nbconvert_exporter": "python",
   "pygments_lexer": "ipython3",
   "version": "3.13.3"
  }
 },
 "nbformat": 4,
 "nbformat_minor": 5
}
