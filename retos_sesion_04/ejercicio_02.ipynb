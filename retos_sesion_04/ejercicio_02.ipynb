{
 "cells": [
  {
   "cell_type": "markdown",
   "id": "90acacff",
   "metadata": {},
   "source": [
    "# Creación de una imagen utilizando símbolos y prints.\n",
    "## Símbolos: \n",
    "        |    /    _    ■"
   ]
  },
  {
   "cell_type": "code",
   "execution_count": 3,
   "id": "44226bb6",
   "metadata": {},
   "outputs": [
    {
     "name": "stdout",
     "output_type": "stream",
     "text": [
      "              ========\n",
      "            /========/ |\n",
      "            |        | |\n",
      "           =|==    ==| |=\n",
      "          / |========|/ /|\n",
      "         / // _____  /=/ /\n",
      "        |=|| /====/|=|=|/\n",
      "          |=|*===*||= |/ \n",
      "          ==||===||/==/|\n",
      "          |          | |\n",
      "          |==========|/\n",
      "           =||    =||\n",
      "       CHICKEN JOCKEY\n"
     ]
    }
   ],
   "source": [
    "print(\"              ========\")\n",
    "print(\"            /========/ |\")\n",
    "print(\"            |        | |\")\n",
    "print(\"           =|==    ==| |=\")\n",
    "print(\"          / |========|/ /|\")\n",
    "print(\"         / // _____  /=/ /\")\n",
    "print(\"        |=|| /====/|=|=|/\")\n",
    "print(\"          |=|*===*||= |/ \")\n",
    "print(\"          ==||===||/==/|\")\n",
    "print(\"          |          | |\")\n",
    "print(\"          |==========|/\")\n",
    "print(\"           =||    =||\")\n",
    "print(\"       CHICKEN JOCKEY\")"
   ]
  }
 ],
 "metadata": {
  "kernelspec": {
   "display_name": "Python 3",
   "language": "python",
   "name": "python3"
  },
  "language_info": {
   "codemirror_mode": {
    "name": "ipython",
    "version": 3
   },
   "file_extension": ".py",
   "mimetype": "text/x-python",
   "name": "python",
   "nbconvert_exporter": "python",
   "pygments_lexer": "ipython3",
   "version": "3.13.3"
  }
 },
 "nbformat": 4,
 "nbformat_minor": 5
}
