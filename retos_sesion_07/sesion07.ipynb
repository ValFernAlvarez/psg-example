{
 "cells": [
  {
   "cell_type": "markdown",
   "id": "4715dfeb",
   "metadata": {},
   "source": [
    "# TIPOS DE DATOS: CADENAS\n",
    "## Comillas\n",
    "- Comillas Simples\n",
    "- Comillas Dobles\n",
    "- Triples Comillas Simples\n",
    "- Triples Comillas Dobles"
   ]
  },
  {
   "cell_type": "code",
   "execution_count": 13,
   "id": "75e407ab",
   "metadata": {},
   "outputs": [
    {
     "name": "stdout",
     "output_type": "stream",
     "text": [
      "Mi cadena permite comillas \"dobles\" en una sola línea\n",
      "Mi cadena permite comillas 'simples' en una sola línea\n",
      "Mi cadena\n",
      "permite contenido \n",
      "en varias líneas y comillas \"dobles\" \n",
      "Mi cadena\n",
      "permite contenido \n",
      "en varias líneas y comillas 'simples' \n"
     ]
    }
   ],
   "source": [
    "simple = 'Mi cadena permite comillas \"dobles\" en una sola línea'\n",
    "doble  = \"Mi cadena permite comillas 'simples' en una sola línea\"\n",
    "triple_simple = '''Mi cadena\n",
    "permite contenido \n",
    "en varias líneas y comillas \"dobles\" '''\n",
    "triple_doble = \"\"\"Mi cadena\n",
    "permite contenido \n",
    "en varias líneas y comillas 'simples' \"\"\"\n",
    "print (simple)\n",
    "print (doble)\n",
    "print (triple_simple)\n",
    "print (triple_doble)"
   ]
  },
  {
   "cell_type": "markdown",
   "id": "3373e55b",
   "metadata": {},
   "source": [
    "## Método \"str()\""
   ]
  },
  {
   "cell_type": "code",
   "execution_count": 14,
   "id": "39b3f27a",
   "metadata": {},
   "outputs": [
    {
     "name": "stdout",
     "output_type": "stream",
     "text": [
      "1\n",
      "0.001\n",
      "10\n",
      "True\n",
      "<class 'str'>\n",
      "<class 'str'>\n",
      "<class 'str'>\n",
      "<class 'str'>\n"
     ]
    }
   ],
   "source": [
    "entero = str(1)\n",
    "flotante = str(1E-3)\n",
    "hexadecimal = str(0xA)\n",
    "booleano = str (True)\n",
    "print (entero)\n",
    "print (flotante)\n",
    "print (hexadecimal)\n",
    "print (booleano)\n",
    "print (type(entero))\n",
    "print (type(flotante))\n",
    "print (type(hexadecimal))\n",
    "print (type(booleano))"
   ]
  },
  {
   "cell_type": "markdown",
   "id": "ba301278",
   "metadata": {},
   "source": [
    "## Escape de Carácteres"
   ]
  },
  {
   "cell_type": "code",
   "execution_count": 15,
   "id": "61868f14",
   "metadata": {},
   "outputs": [
    {
     "name": "stdout",
     "output_type": "stream",
     "text": [
      "El mensaje enviado fue: \"Hello, I'm a message\"\n",
      "El mensaje enviado fue: \"Hello, I'm a message\"\n"
     ]
    }
   ],
   "source": [
    "#print (\"El mensaje enviado fue: \"Hello, I'm a message\"\")\n",
    "#print ('El mensaje enviado fue: \"Hello, I'm a message\"')\n",
    "#---\n",
    "print (\"El mensaje enviado fue: \\\"Hello, I\\'m a message\\\"\")\n",
    "print ('El mensaje enviado fue: \\\"Hello, I\\'m a message\\\"')"
   ]
  },
  {
   "cell_type": "code",
   "execution_count": 16,
   "id": "f4c695dc",
   "metadata": {},
   "outputs": [
    {
     "name": "stdout",
     "output_type": "stream",
     "text": [
      "Hola,\n",
      "\teste es un mensaje \u000bcon algunos caracteres especiales como \\ y tabulador.\n"
     ]
    }
   ],
   "source": [
    "mensaje = \"Hola,\\n\\teste es un mensaje \\vcon algunos caracteres \\\n",
    "especiales como \\\\ y tabulador.\"\n",
    "print(mensaje)"
   ]
  },
  {
   "cell_type": "markdown",
   "id": "2309065d",
   "metadata": {},
   "source": [
    "## Método \"Input()\""
   ]
  },
  {
   "cell_type": "code",
   "execution_count": 17,
   "id": "74773947",
   "metadata": {},
   "outputs": [
    {
     "name": "stdout",
     "output_type": "stream",
     "text": [
      "Hola\n",
      "<class 'str'>\n"
     ]
    }
   ],
   "source": [
    "entrada = input(\"Ingrese un valor: \")\n",
    "print (entrada)\n",
    "print (type(entrada))"
   ]
  },
  {
   "cell_type": "code",
   "execution_count": 18,
   "id": "2021388e",
   "metadata": {},
   "outputs": [
    {
     "name": "stdout",
     "output_type": "stream",
     "text": [
      "123 <class 'int'>\n",
      "123.4 <class 'float'>\n",
      "True <class 'bool'>\n"
     ]
    }
   ],
   "source": [
    "entero = int(input(\"Ingrese un valor entero: \"))\n",
    "print (entero, type(entero))\n",
    "\n",
    "flotante = float(input(\"Ingrese un valor flotante: \"))\n",
    "print (flotante, type(flotante))\n",
    "\n",
    "booleano = bool(input(\"Ingrese un valor booleano: \"))\n",
    "print (booleano, type(booleano))"
   ]
  },
  {
   "cell_type": "markdown",
   "id": "1d0a8b4f",
   "metadata": {},
   "source": [
    "## Manejo de Índices"
   ]
  },
  {
   "cell_type": "code",
   "execution_count": 19,
   "id": "8bbabcf0",
   "metadata": {},
   "outputs": [
    {
     "name": "stdout",
     "output_type": "stream",
     "text": [
      "Indexado positivo\n",
      "banana\n",
      "b\n",
      "a\n"
     ]
    }
   ],
   "source": [
    "print (\"Indexado positivo\")\n",
    "fruta = \"banana\"\n",
    "print (fruta)\n",
    "print (fruta[0])\n",
    "print (fruta[5])"
   ]
  },
  {
   "cell_type": "code",
   "execution_count": 20,
   "id": "fafc1e60",
   "metadata": {},
   "outputs": [
    {
     "name": "stdout",
     "output_type": "stream",
     "text": [
      "Indexado negativo\n",
      "banana\n",
      "a\n",
      "a\n"
     ]
    }
   ],
   "source": [
    "print (\"Indexado negativo\")\n",
    "fruta = \"banana\"\n",
    "print (fruta)\n",
    "print (fruta[-1])\n",
    "print (fruta[-3])"
   ]
  },
  {
   "cell_type": "markdown",
   "id": "b6921968",
   "metadata": {},
   "source": [
    "## Segmentación o Slicing"
   ]
  },
  {
   "cell_type": "code",
   "execution_count": 21,
   "id": "deaee2da",
   "metadata": {},
   "outputs": [
    {
     "name": "stdout",
     "output_type": "stream",
     "text": [
      "Slicing\n",
      "LaPaz-Bolivia\n",
      "Slicing con índices positivos\n",
      "LaPaz-\n",
      "LPz\n",
      "Slicing con índices negativos\n",
      "az-Boliv\n",
      "a-oi\n"
     ]
    }
   ],
   "source": [
    "print (\"Slicing\")\n",
    "ciudad =  \"LaPaz-Bolivia\"\n",
    "print (ciudad)\n",
    "print (\"Slicing con índices positivos\")\n",
    "print (ciudad[0:6])\n",
    "print (ciudad[0:6:2])\n",
    "print (\"Slicing con índices negativos\")\n",
    "print (ciudad[-10:-2])\n",
    "print (ciudad[-10:-2:2])"
   ]
  },
  {
   "cell_type": "code",
   "execution_count": 22,
   "id": "ef05c8b7",
   "metadata": {},
   "outputs": [
    {
     "name": "stdout",
     "output_type": "stream",
     "text": [
      "Slicing sin índice inicial y final\n",
      "LaPaz-\n",
      "Bolivia\n",
      "Slicing sin índice inicial ni final\n",
      "LaPaz-Bolivia\n",
      "LPzBlva\n"
     ]
    }
   ],
   "source": [
    "print (\"Slicing sin índice inicial y final\")\n",
    "print (ciudad[:6])\n",
    "print (ciudad[6:])\n",
    "print (\"Slicing sin índice inicial ni final\")\n",
    "print (ciudad[:])\n",
    "print (ciudad[::2])"
   ]
  },
  {
   "cell_type": "code",
   "execution_count": 23,
   "id": "1711d564",
   "metadata": {},
   "outputs": [
    {
     "name": "stdout",
     "output_type": "stream",
     "text": [
      "Slicing con paso negativo\n",
      "viloB-\n",
      "vlBzPL\n"
     ]
    }
   ],
   "source": [
    "print (\"Slicing con paso negativo\")\n",
    "print (ciudad[10:4:-1])\n",
    "print (ciudad[10::-2])"
   ]
  },
  {
   "cell_type": "markdown",
   "id": "9077afaa",
   "metadata": {},
   "source": [
    "## Concatenación De Cadenas"
   ]
  },
  {
   "cell_type": "code",
   "execution_count": 24,
   "id": "6751e719",
   "metadata": {},
   "outputs": [
    {
     "name": "stdout",
     "output_type": "stream",
     "text": [
      "Concatenación de cadenas\n",
      "Hola Mundo\n"
     ]
    }
   ],
   "source": [
    "print (\"Concatenación de cadenas\")\n",
    "cadena1 = \"Hola\"\n",
    "cadena2 = \"Mundo\"\n",
    "concatenada = cadena1 + \" \" + cadena2\n",
    "print (concatenada)"
   ]
  },
  {
   "cell_type": "markdown",
   "id": "efbc47ed",
   "metadata": {},
   "source": [
    "## Repetición De Una Cadena"
   ]
  },
  {
   "cell_type": "code",
   "execution_count": 25,
   "id": "4404a073",
   "metadata": {},
   "outputs": [
    {
     "name": "stdout",
     "output_type": "stream",
     "text": [
      "Repetición de cadenas\n",
      "-#--#--#--#--#--#--#--#--#--#-\n"
     ]
    }
   ],
   "source": [
    "print (\"Repetición de cadenas\")\n",
    "cadena = \"-#-\"\n",
    "repetida = cadena * 10\n",
    "print (repetida)"
   ]
  },
  {
   "cell_type": "markdown",
   "id": "3a679b52",
   "metadata": {},
   "source": [
    "## Longitud De Una Cadena"
   ]
  },
  {
   "cell_type": "code",
   "execution_count": 26,
   "id": "40c15365",
   "metadata": {},
   "outputs": [
    {
     "name": "stdout",
     "output_type": "stream",
     "text": [
      "Longitud de una cadena\n",
      "Hola Mundo :D\n",
      "13 <class 'int'>\n"
     ]
    }
   ],
   "source": [
    "print (\"Longitud de una cadena\")\n",
    "cadena = \"Hola Mundo :D\"\n",
    "longitud = len(cadena)\n",
    "print (cadena)\n",
    "print (longitud, type(longitud))"
   ]
  },
  {
   "cell_type": "markdown",
   "id": "96020f0a",
   "metadata": {},
   "source": [
    "## Métodos De Cadenas"
   ]
  },
  {
   "cell_type": "markdown",
   "id": "2c5e712e",
   "metadata": {},
   "source": [
    "### UPPER: \".upper()\""
   ]
  },
  {
   "cell_type": "code",
   "execution_count": 27,
   "id": "d3c635b9",
   "metadata": {},
   "outputs": [
    {
     "name": "stdout",
     "output_type": "stream",
     "text": [
      "Función Upper\n",
      "cadena Inicial #1\n",
      "CADENA INICIAL #1\n"
     ]
    }
   ],
   "source": [
    "print (\"Función Upper\")\n",
    "cadena = \"cadena Inicial #1\"\n",
    "mayuscula  = cadena.upper()\n",
    "print (cadena)\n",
    "print (mayuscula)"
   ]
  },
  {
   "cell_type": "markdown",
   "id": "cab1df7b",
   "metadata": {},
   "source": [
    "### LOWER: \".lower()\""
   ]
  },
  {
   "cell_type": "code",
   "execution_count": 28,
   "id": "8ea8ee74",
   "metadata": {},
   "outputs": [
    {
     "name": "stdout",
     "output_type": "stream",
     "text": [
      "Función Lower\n",
      "Cadena INICIAL #2\n",
      "cadena inicial #2\n"
     ]
    }
   ],
   "source": [
    "print (\"Función Lower\")\n",
    "cadena = \"Cadena INICIAL #2\"\n",
    "minuscula  = cadena.lower()\n",
    "print (cadena)\n",
    "print (minuscula)"
   ]
  },
  {
   "cell_type": "markdown",
   "id": "421cd2a0",
   "metadata": {},
   "source": [
    "### CAPITALIZE: \".capitalize()\""
   ]
  },
  {
   "cell_type": "code",
   "execution_count": 29,
   "id": "0613d67f",
   "metadata": {},
   "outputs": [
    {
     "name": "stdout",
     "output_type": "stream",
     "text": [
      "Función Capitalize\n",
      "cadena INICIAL #3\n",
      "Cadena inicial #3\n"
     ]
    }
   ],
   "source": [
    "print (\"Función Capitalize\")\n",
    "cadena = \"cadena INICIAL #3\"\n",
    "capital = cadena.capitalize()\n",
    "print (cadena)\n",
    "print (capital)"
   ]
  },
  {
   "cell_type": "markdown",
   "id": "19e31ae6",
   "metadata": {},
   "source": [
    "### TITLE: \".title()\""
   ]
  },
  {
   "cell_type": "code",
   "execution_count": 30,
   "id": "44aaa890",
   "metadata": {},
   "outputs": [
    {
     "name": "stdout",
     "output_type": "stream",
     "text": [
      "Función Title\n",
      "CADENA inicial #4\n",
      "Cadena Inicial #4\n"
     ]
    }
   ],
   "source": [
    "print (\"Función Title\")\n",
    "cadena = \"CADENA inicial #4\"\n",
    "titulo = cadena.title()\n",
    "print (cadena)\n",
    "print (titulo)"
   ]
  },
  {
   "cell_type": "markdown",
   "id": "5afb99c3",
   "metadata": {},
   "source": [
    "### SWAPCASE: \".swapcase()\""
   ]
  },
  {
   "cell_type": "code",
   "execution_count": 31,
   "id": "6efffc42",
   "metadata": {},
   "outputs": [
    {
     "name": "stdout",
     "output_type": "stream",
     "text": [
      "Función Swapcase\n",
      "CADena InIcIaL #5\n",
      "cadENA iNiCiAl #5\n"
     ]
    }
   ],
   "source": [
    "print (\"Función Swapcase\")\n",
    "cadena = \"CADena InIcIaL #5\"\n",
    "swap = cadena.swapcase()\n",
    "print (cadena)\n",
    "print (swap)"
   ]
  },
  {
   "cell_type": "markdown",
   "id": "dd4ae3b4",
   "metadata": {},
   "source": [
    "### COUNT: \".count()\""
   ]
  },
  {
   "cell_type": "code",
   "execution_count": 32,
   "id": "d4f21e48",
   "metadata": {},
   "outputs": [
    {
     "name": "stdout",
     "output_type": "stream",
     "text": [
      "Función Count\n",
      "Cantidad de veces la letra A\n",
      "4 <class 'int'>\n"
     ]
    }
   ],
   "source": [
    "print (\"Función Count\")\n",
    "cadena = \"Cantidad de veces la letra A\"\n",
    "contar = cadena.count(\"a\")\n",
    "print(cadena)\n",
    "print(contar, type(contar))"
   ]
  },
  {
   "cell_type": "markdown",
   "id": "7f471d20",
   "metadata": {},
   "source": [
    "### FIND: \".find()\""
   ]
  },
  {
   "cell_type": "code",
   "execution_count": 33,
   "id": "507773f1",
   "metadata": {},
   "outputs": [
    {
     "name": "stdout",
     "output_type": "stream",
     "text": [
      "Función Find\n",
      "Encontrar las letras las\n",
      "10 <class 'int'>\n"
     ]
    }
   ],
   "source": [
    "print (\"Función Find\")\n",
    "cadena = \"Encontrar las letras las\"\n",
    "buscar = cadena.find(\"las\")\n",
    "print(cadena)\n",
    "print(buscar, type(buscar))"
   ]
  },
  {
   "cell_type": "markdown",
   "id": "3030102e",
   "metadata": {},
   "source": [
    "### RFIND: \".rfind()\""
   ]
  },
  {
   "cell_type": "code",
   "execution_count": 34,
   "id": "5d83365b",
   "metadata": {},
   "outputs": [
    {
     "name": "stdout",
     "output_type": "stream",
     "text": [
      "Función Rfind\n",
      "Encontrar las letras las\n",
      "21 <class 'int'>\n"
     ]
    }
   ],
   "source": [
    "print (\"Función Rfind\")\n",
    "cadena = \"Encontrar las letras las\"\n",
    "buscar = cadena.rfind(\"las\")\n",
    "print(cadena)\n",
    "print(buscar, type(buscar))"
   ]
  },
  {
   "cell_type": "markdown",
   "id": "62821f44",
   "metadata": {},
   "source": [
    "### FIND Y RFIND"
   ]
  },
  {
   "cell_type": "code",
   "execution_count": 35,
   "id": "65deba2a",
   "metadata": {},
   "outputs": [
    {
     "name": "stdout",
     "output_type": "stream",
     "text": [
      "Función Find y Rfind\n",
      "Encontrar tres O\n",
      "-1 <class 'int'>\n",
      "-1 <class 'int'>\n"
     ]
    }
   ],
   "source": [
    "print (\"Función Find y Rfind\")\n",
    "cadena = \"Encontrar tres O\"\n",
    "buscar = cadena.find(\"OOO\")\n",
    "print(cadena)\n",
    "print(buscar, type(buscar))\n",
    "buscar = cadena.rfind(\"OOO\")\n",
    "print(buscar, type(buscar))"
   ]
  },
  {
   "cell_type": "markdown",
   "id": "f1c4c4d6",
   "metadata": {},
   "source": [
    "### ISDIGIT,ISALPHA Y ISALNUM\n",
    "- isdigit()\n",
    "- isalpha()\n",
    "- isalnum()"
   ]
  },
  {
   "cell_type": "code",
   "execution_count": 36,
   "id": "fde9fe17",
   "metadata": {},
   "outputs": [
    {
     "name": "stdout",
     "output_type": "stream",
     "text": [
      "Función isdigit\n",
      "True <class 'bool'>\n",
      "Función isalpha\n",
      "True <class 'bool'>\n",
      "Función isalnum\n",
      "True <class 'bool'>\n"
     ]
    }
   ],
   "source": [
    "print (\"Función isdigit\")\n",
    "resultado = \"100\".isdigit()\n",
    "print (resultado, type(resultado))\n",
    "print (\"Función isalpha\")\n",
    "resultado = \"Hola\".isalpha()\n",
    "print (resultado, type(resultado))\n",
    "print (\"Función isalnum\")\n",
    "resultado = \"usuario123\".isalnum()\n",
    "print (resultado, type(resultado))"
   ]
  },
  {
   "cell_type": "markdown",
   "id": "c07527f8",
   "metadata": {},
   "source": [
    "### SPLIT: \".split()\""
   ]
  },
  {
   "cell_type": "code",
   "execution_count": 37,
   "id": "0b6e6268",
   "metadata": {},
   "outputs": [
    {
     "name": "stdout",
     "output_type": "stream",
     "text": [
      "Función split\n",
      "pan,carne,huevos\n",
      "['pan', 'carne', 'huevos'] <class 'list'>\n"
     ]
    }
   ],
   "source": [
    "print (\"Función split\")\n",
    "cadena = \"pan,carne,huevos\"\n",
    "separado = cadena.split(\",\")\n",
    "print (cadena)\n",
    "print (separado, type(separado))"
   ]
  },
  {
   "cell_type": "markdown",
   "id": "139f21fb",
   "metadata": {},
   "source": [
    "### JOIN: \".join()\""
   ]
  },
  {
   "cell_type": "code",
   "execution_count": 38,
   "id": "8b5ed1dd",
   "metadata": {},
   "outputs": [
    {
     "name": "stdout",
     "output_type": "stream",
     "text": [
      "Función join\n",
      "abcdefghij\n",
      "a-b-c-d-e-f-g-h-i-j\n"
     ]
    }
   ],
   "source": [
    "print (\"Función join\")\n",
    "cadena = \"abcdefghij\"\n",
    "unido = \"-\".join(cadena)\n",
    "print (cadena)\n",
    "print (unido)"
   ]
  },
  {
   "cell_type": "markdown",
   "id": "47d79e58",
   "metadata": {},
   "source": [
    "### STRIP: \".strip()\""
   ]
  },
  {
   "cell_type": "code",
   "execution_count": 39,
   "id": "6f4c06d4",
   "metadata": {},
   "outputs": [
    {
     "name": "stdout",
     "output_type": "stream",
     "text": [
      "Función strip\n",
      "      Hola    Mundo     \n",
      "Hola    Mundo\n",
      "-abc--def-ghi-cba----\n",
      "def-ghi\n"
     ]
    }
   ],
   "source": [
    "print (\"Función strip\")\n",
    "cadena = \"      Hola    Mundo     \"\n",
    "limpio = cadena.strip()\n",
    "print (cadena)\n",
    "print (limpio)\n",
    "cadena = \"-abc--def-ghi-cba----\"\n",
    "limpio = cadena.strip(\"bac-\")\n",
    "print (cadena)\n",
    "print (limpio)"
   ]
  },
  {
   "cell_type": "markdown",
   "id": "8f472471",
   "metadata": {},
   "source": [
    "### REPLACE: \".replace()\""
   ]
  },
  {
   "cell_type": "code",
   "execution_count": 40,
   "id": "fb990d3d",
   "metadata": {},
   "outputs": [
    {
     "name": "stdout",
     "output_type": "stream",
     "text": [
      "Función replace\n",
      "Me gusta programar en JS, Amo JS\n",
      "Me gusta programar en Python, Amo Python\n"
     ]
    }
   ],
   "source": [
    "print (\"Función replace\")\n",
    "cadena = \"Me gusta programar en JS, Amo JS\"\n",
    "reemplazado = cadena.replace(\"JS\", \"Python\")\n",
    "print (cadena)\n",
    "print (reemplazado)"
   ]
  },
  {
   "cell_type": "markdown",
   "id": "d80556e9",
   "metadata": {},
   "source": [
    "### FORMAT: \".format()\""
   ]
  },
  {
   "cell_type": "code",
   "execution_count": 41,
   "id": "22721d5a",
   "metadata": {},
   "outputs": [
    {
     "name": "stdout",
     "output_type": "stream",
     "text": [
      "Función format\n",
      "El valor de PI es: {}\n",
      "El valor de PI es: 3.1416\n"
     ]
    }
   ],
   "source": [
    "print (\"Función format\")\n",
    "cadena = \"El valor de PI es: {}\"\n",
    "formateado = cadena.format(3.1416)\n",
    "print (cadena)\n",
    "print (formateado)"
   ]
  },
  {
   "cell_type": "code",
   "execution_count": 42,
   "id": "2b6718fe",
   "metadata": {},
   "outputs": [
    {
     "name": "stdout",
     "output_type": "stream",
     "text": [
      "Función format con índices\n",
      "{2} es la suma de {0} y {1}\n",
      "8 es la suma de 5 y 3\n"
     ]
    }
   ],
   "source": [
    "print (\"Función format con índices\")\n",
    "cadena = \"{2} es la suma de {0} y {1}\"\n",
    "valor_1 = 5\n",
    "valor_2 = 3\n",
    "resultado = valor_1+valor_2\n",
    "formateado = cadena.format(valor_1, valor_2, resultado)\n",
    "print (cadena)\n",
    "print (formateado)"
   ]
  },
  {
   "cell_type": "code",
   "execution_count": 45,
   "id": "2c3a413e",
   "metadata": {},
   "outputs": [
    {
     "name": "stdout",
     "output_type": "stream",
     "text": [
      "Función format con nombres\n",
      "{ciudad_f} es la capital de {pais_f}\n",
      "París es la capital de Francia\n"
     ]
    }
   ],
   "source": [
    "print (\"Función format con nombres\")\n",
    "cadena = \"{ciudad_f} es la capital de {pais_f}\"\n",
    "pais = \"Francia\"\n",
    "ciudad = \"París\"\n",
    "formateado = cadena.format(pais_f=pais, ciudad_f=ciudad)\n",
    "print (cadena)\n",
    "print (formateado)"
   ]
  },
  {
   "cell_type": "code",
   "execution_count": 44,
   "id": "e6877669",
   "metadata": {},
   "outputs": [
    {
     "name": "stdout",
     "output_type": "stream",
     "text": [
      "Función format con f-string\n",
      "La moneda de Bolivia es el Boliviano\n"
     ]
    }
   ],
   "source": [
    "print (\"Función format con f-string\")\n",
    "moneda = \"Boliviano\"\n",
    "pais = \"Bolivia\"\n",
    "formateado = f\"La moneda de {pais} es el {moneda}\"\n",
    "print (formateado)"
   ]
  }
 ],
 "metadata": {
  "kernelspec": {
   "display_name": "Python 3",
   "language": "python",
   "name": "python3"
  },
  "language_info": {
   "codemirror_mode": {
    "name": "ipython",
    "version": 3
   },
   "file_extension": ".py",
   "mimetype": "text/x-python",
   "name": "python",
   "nbconvert_exporter": "python",
   "pygments_lexer": "ipython3",
   "version": "3.13.3"
  }
 },
 "nbformat": 4,
 "nbformat_minor": 5
}
