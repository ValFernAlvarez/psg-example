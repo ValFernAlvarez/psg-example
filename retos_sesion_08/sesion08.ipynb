{
 "cells": [
  {
   "cell_type": "markdown",
   "id": "579452c0",
   "metadata": {},
   "source": [
    "# ESTRUCTURAS DE DATOS: TUPLAS\n",
    "## Tupla de Enteros"
   ]
  },
  {
   "cell_type": "code",
   "execution_count": 1,
   "id": "8361fc4e",
   "metadata": {},
   "outputs": [
    {
     "name": "stdout",
     "output_type": "stream",
     "text": [
      "Tupla de enteros\n",
      "(1, 2, 3, 4, 5, 6)\n",
      "<class 'tuple'>\n"
     ]
    }
   ],
   "source": [
    "print (\"Tupla de enteros\")\n",
    "enteros = (1,2,3,4,5,6)\n",
    "print (enteros)\n",
    "print (type(enteros))"
   ]
  },
  {
   "cell_type": "markdown",
   "id": "c2acea4b",
   "metadata": {},
   "source": [
    "## Tupla de Cadenas"
   ]
  },
  {
   "cell_type": "code",
   "execution_count": 2,
   "id": "2c819d36",
   "metadata": {},
   "outputs": [
    {
     "name": "stdout",
     "output_type": "stream",
     "text": [
      "Tupla de cadenas\n",
      "('hola', 'mundo', 'desde', 'python')\n",
      "<class 'tuple'>\n"
     ]
    }
   ],
   "source": [
    "print (\"Tupla de cadenas\")\n",
    "cadenas = (\"hola\", \"mundo\", \"desde\", \"python\")\n",
    "print (cadenas)\n",
    "print (type(cadenas))"
   ]
  },
  {
   "cell_type": "markdown",
   "id": "3385c04a",
   "metadata": {},
   "source": [
    "## Tupla Mixta"
   ]
  },
  {
   "cell_type": "code",
   "execution_count": 3,
   "id": "6280ee3b",
   "metadata": {},
   "outputs": [
    {
     "name": "stdout",
     "output_type": "stream",
     "text": [
      "Tupla Mixta\n",
      "(1, 'hola', True, 2.5)\n",
      "<class 'tuple'>\n"
     ]
    }
   ],
   "source": [
    "print (\"Tupla Mixta\") \n",
    "mixta = (1, \"hola\", True, 2.5)\n",
    "print (mixta)\n",
    "print (type(mixta))"
   ]
  },
  {
   "cell_type": "markdown",
   "id": "af3a0e8f",
   "metadata": {},
   "source": [
    "## Tupla Vacía"
   ]
  },
  {
   "cell_type": "code",
   "execution_count": 4,
   "id": "f65839dc",
   "metadata": {},
   "outputs": [
    {
     "name": "stdout",
     "output_type": "stream",
     "text": [
      "Tupla vacia\n",
      "()\n",
      "<class 'tuple'>\n"
     ]
    }
   ],
   "source": [
    "print (\"Tupla vacia\")\n",
    "vacia = ()\n",
    "print (vacia)\n",
    "print (type(vacia))"
   ]
  },
  {
   "cell_type": "markdown",
   "id": "ba0a4abb",
   "metadata": {},
   "source": [
    "## Tupla con Un Elemento"
   ]
  },
  {
   "cell_type": "code",
   "execution_count": 5,
   "id": "a55af5af",
   "metadata": {},
   "outputs": [
    {
     "name": "stdout",
     "output_type": "stream",
     "text": [
      "Tupla de un solo elemento\n",
      "(1,)\n",
      "<class 'tuple'>\n"
     ]
    }
   ],
   "source": [
    "print (\"Tupla de un solo elemento\")\n",
    "uno = (1,)\n",
    "print (uno)\n",
    "print (type(uno))"
   ]
  },
  {
   "cell_type": "markdown",
   "id": "49073ada",
   "metadata": {},
   "source": [
    "## Tupla de Una Cadena"
   ]
  },
  {
   "cell_type": "code",
   "execution_count": 6,
   "id": "04a2e9ad",
   "metadata": {},
   "outputs": [
    {
     "name": "stdout",
     "output_type": "stream",
     "text": [
      "Tupla utilizando la función tuple()\n",
      "('h', 'o', 'l', 'a')\n",
      "<class 'tuple'>\n"
     ]
    }
   ],
   "source": [
    "print (\"Tupla utilizando la función tuple()\")\n",
    "constructor = tuple(\"hola\")\n",
    "print (constructor)\n",
    "print (type(constructor))"
   ]
  },
  {
   "cell_type": "markdown",
   "id": "7d029147",
   "metadata": {},
   "source": [
    "## Indexación y Slicing\n",
    "### Índices Positivos"
   ]
  },
  {
   "cell_type": "code",
   "execution_count": 7,
   "id": "8a5a60e0",
   "metadata": {},
   "outputs": [
    {
     "name": "stdout",
     "output_type": "stream",
     "text": [
      "Indexado positivo de una tupla\n",
      "1 <class 'int'>\n",
      "2.0 <class 'float'>\n",
      "hola <class 'str'>\n",
      "True <class 'bool'>\n"
     ]
    }
   ],
   "source": [
    "print (\"Indexado positivo de una tupla\")\n",
    "tupla = (1,2.0, \"hola\", True)\n",
    "print (tupla[0], type(tupla[0]))\n",
    "print (tupla[1], type(tupla[1]))\n",
    "print (tupla[2], type(tupla[2]))\n",
    "print (tupla[3], type(tupla[3]))"
   ]
  },
  {
   "cell_type": "markdown",
   "id": "81319cde",
   "metadata": {},
   "source": [
    "### Índices Negativos"
   ]
  },
  {
   "cell_type": "code",
   "execution_count": 8,
   "id": "a5b886a7",
   "metadata": {},
   "outputs": [
    {
     "name": "stdout",
     "output_type": "stream",
     "text": [
      "Indexado negativo de una tupla\n",
      "True <class 'bool'>\n",
      "hola <class 'str'>\n",
      "2.0 <class 'float'>\n",
      "1 <class 'int'>\n"
     ]
    }
   ],
   "source": [
    "print (\"Indexado negativo de una tupla\")\n",
    "tupla = (1,2.0, \"hola\", True)\n",
    "print (tupla[-1], type(tupla[-1]))\n",
    "print (tupla[-2], type(tupla[-2]))\n",
    "print (tupla[-3], type(tupla[-3]))\n",
    "print (tupla[-4], type(tupla[-4]))"
   ]
  },
  {
   "cell_type": "markdown",
   "id": "e952ad76",
   "metadata": {},
   "source": [
    "### Slicing General"
   ]
  },
  {
   "cell_type": "code",
   "execution_count": 9,
   "id": "0580b49e",
   "metadata": {},
   "outputs": [
    {
     "name": "stdout",
     "output_type": "stream",
     "text": [
      "Slicing de una tupla\n",
      "(0, 1, 2, 3, 4, 5, 6, 7, 8, 9, 10)\n",
      "(0, 1, 2, 3, 4)\n",
      "<class 'tuple'>\n"
     ]
    }
   ],
   "source": [
    "print (\"Slicing de una tupla\")\n",
    "tupla = (0,1,2,3,4,5,6,7,8,9,10)\n",
    "print (tupla)\n",
    "sub_tupla = tupla[0:5]\n",
    "print (sub_tupla)\n",
    "print (type(sub_tupla))"
   ]
  },
  {
   "cell_type": "markdown",
   "id": "99260578",
   "metadata": {},
   "source": [
    "### Slicing con Paso Positivo"
   ]
  },
  {
   "cell_type": "code",
   "execution_count": 10,
   "id": "f5c74cb2",
   "metadata": {},
   "outputs": [
    {
     "name": "stdout",
     "output_type": "stream",
     "text": [
      "Slicing de una tupla con saltos\n",
      "(0, 1, 2, 3, 4, 5, 6, 7, 8, 9, 10)\n",
      "(0, 2, 4, 6, 8)\n",
      "<class 'tuple'>\n"
     ]
    }
   ],
   "source": [
    "print (\"Slicing de una tupla con saltos\")\n",
    "tupla = (0,1,2,3,4,5,6,7,8,9,10)\n",
    "print (tupla)\n",
    "sub_tupla = tupla[0:10:2]\n",
    "print (sub_tupla)\n",
    "print (type(sub_tupla))"
   ]
  },
  {
   "cell_type": "markdown",
   "id": "064adc00",
   "metadata": {},
   "source": [
    "### Slicing con Paso Negativo"
   ]
  },
  {
   "cell_type": "code",
   "execution_count": 11,
   "id": "651ee5a6",
   "metadata": {},
   "outputs": [
    {
     "name": "stdout",
     "output_type": "stream",
     "text": [
      "Slicing de una tupla con saltos negativos\n",
      "(0, 1, 2, 3, 4, 5, 6, 7, 8, 9, 10)\n",
      "(7, 5, 3)\n",
      "<class 'tuple'>\n"
     ]
    }
   ],
   "source": [
    "print (\"Slicing de una tupla con saltos negativos\")\n",
    "tupla = (0,1,2,3,4,5,6,7,8,9,10)\n",
    "print (tupla)\n",
    "sub_tupla = tupla[7:2:-2]\n",
    "print (sub_tupla)\n",
    "print (type(sub_tupla))"
   ]
  },
  {
   "cell_type": "markdown",
   "id": "608c4e7d",
   "metadata": {},
   "source": [
    "## Concatenación de Tuplas"
   ]
  },
  {
   "cell_type": "code",
   "execution_count": 12,
   "id": "a8bdfbcd",
   "metadata": {},
   "outputs": [
    {
     "name": "stdout",
     "output_type": "stream",
     "text": [
      "Concatenación de tuplas\n",
      "(1, 2, 3) (4, 5, 6)\n",
      "(1, 2, 3, 4, 5, 6)\n",
      "<class 'tuple'>\n"
     ]
    }
   ],
   "source": [
    "print (\"Concatenación de tuplas\")\n",
    "tupla1 = (1,2,3)\n",
    "tupla2 = (4,5,6)\n",
    "concatenar = tupla1 + tupla2\n",
    "print (tupla1, tupla2)\n",
    "print (concatenar)\n",
    "print (type(concatenar))"
   ]
  },
  {
   "cell_type": "markdown",
   "id": "bef0e2db",
   "metadata": {},
   "source": [
    "## Repetición de Tuplas"
   ]
  },
  {
   "cell_type": "code",
   "execution_count": 13,
   "id": "4e2e2b18",
   "metadata": {},
   "outputs": [
    {
     "name": "stdout",
     "output_type": "stream",
     "text": [
      "Repetición de tuplas\n",
      "(1, 2, 3)\n",
      "(1, 2, 3, 1, 2, 3, 1, 2, 3)\n",
      "<class 'tuple'>\n"
     ]
    }
   ],
   "source": [
    "print (\"Repetición de tuplas\")\n",
    "tupla = (1,2,3)\n",
    "repetir = tupla * 3\n",
    "print (tupla)\n",
    "print (repetir)\n",
    "print (type(repetir))"
   ]
  },
  {
   "cell_type": "markdown",
   "id": "a1fb9068",
   "metadata": {},
   "source": [
    "## Asignación Múltiple de Valores"
   ]
  },
  {
   "cell_type": "code",
   "execution_count": 14,
   "id": "ce241db5",
   "metadata": {},
   "outputs": [
    {
     "name": "stdout",
     "output_type": "stream",
     "text": [
      "Asignación múltiple\n",
      "('Jhon', 'Doe', 22, 1.75)\n",
      "Jhon\n",
      "Doe\n",
      "22\n",
      "1.75\n"
     ]
    }
   ],
   "source": [
    "print (\"Asignación múltiple\")\n",
    "persona = (\"Jhon\", \"Doe\", 22, 1.75)\n",
    "nombre, apellido, edad, estatura = persona\n",
    "print (persona)\n",
    "print (nombre)\n",
    "print (apellido)\n",
    "print (edad)\n",
    "print (estatura)"
   ]
  },
  {
   "cell_type": "markdown",
   "id": "f5837126",
   "metadata": {},
   "source": [
    "## Métodos de las Tuplas\n",
    "### Método index(valor)"
   ]
  },
  {
   "cell_type": "code",
   "execution_count": 15,
   "id": "198df413",
   "metadata": {},
   "outputs": [
    {
     "name": "stdout",
     "output_type": "stream",
     "text": [
      "Método index(valor)\n",
      "1\n",
      "2\n"
     ]
    }
   ],
   "source": [
    "print (\"Método index(valor)\")\n",
    "tupla = (1,2.0, \"hola\", True)\n",
    "print (tupla.index(2.0))\n",
    "print (tupla.index(\"hola\"))"
   ]
  },
  {
   "cell_type": "markdown",
   "id": "46242f4c",
   "metadata": {},
   "source": [
    "### Método count(valor)"
   ]
  },
  {
   "cell_type": "code",
   "execution_count": 16,
   "id": "38fba02e",
   "metadata": {},
   "outputs": [
    {
     "name": "stdout",
     "output_type": "stream",
     "text": [
      "Método count(valor)\n",
      "1\n",
      "2\n",
      "0\n"
     ]
    }
   ],
   "source": [
    "print (\"Método count(valor)\")\n",
    "tupla = (1, 2.0, \"hola\", False, \"hola\", \"HOLA\")\n",
    "print (tupla.count(1))\n",
    "print (tupla.count(\"hola\"))\n",
    "print (tupla.count(10))"
   ]
  },
  {
   "cell_type": "markdown",
   "id": "df81fd7d",
   "metadata": {},
   "source": [
    "## Funciones con Tuplas\n",
    "### Función len()"
   ]
  },
  {
   "cell_type": "code",
   "execution_count": 17,
   "id": "5433c765",
   "metadata": {},
   "outputs": [
    {
     "name": "stdout",
     "output_type": "stream",
     "text": [
      "Función len()\n",
      "(1, 2.0, 'hola', True)\n",
      "4\n"
     ]
    }
   ],
   "source": [
    "print (\"Función len()\")\n",
    "tupla = (1,2.0, \"hola\", True)\n",
    "longitud = len(tupla)\n",
    "print (tupla)\n",
    "print (longitud)"
   ]
  },
  {
   "cell_type": "markdown",
   "id": "93d2c65d",
   "metadata": {},
   "source": [
    "### Función max()"
   ]
  },
  {
   "cell_type": "code",
   "execution_count": 18,
   "id": "ce346003",
   "metadata": {},
   "outputs": [
    {
     "name": "stdout",
     "output_type": "stream",
     "text": [
      "Función max()\n",
      "(1, 2, 10, 5, 8, 0)\n",
      "10\n"
     ]
    }
   ],
   "source": [
    "print (\"Función max()\")\n",
    "tupla = (1,2,10,5,8,0)\n",
    "maximo = max(tupla)\n",
    "print (tupla)\n",
    "print (maximo)"
   ]
  },
  {
   "cell_type": "markdown",
   "id": "441d80ba",
   "metadata": {},
   "source": [
    "### Función min()"
   ]
  },
  {
   "cell_type": "code",
   "execution_count": 19,
   "id": "37f14dec",
   "metadata": {},
   "outputs": [
    {
     "name": "stdout",
     "output_type": "stream",
     "text": [
      "Función min()\n",
      "('a', 'z', 'c', 'b', 'f', 'd')\n",
      "a\n"
     ]
    }
   ],
   "source": [
    "print (\"Función min()\")\n",
    "tupla = (\"a\",\"z\",\"c\",\"b\",\"f\",\"d\")\n",
    "minimo = min(tupla)\n",
    "print (tupla)\n",
    "print (minimo)"
   ]
  },
  {
   "cell_type": "markdown",
   "id": "a2540150",
   "metadata": {},
   "source": [
    "### Función sum()"
   ]
  },
  {
   "cell_type": "code",
   "execution_count": 20,
   "id": "c4e87341",
   "metadata": {},
   "outputs": [
    {
     "name": "stdout",
     "output_type": "stream",
     "text": [
      "Función sum()\n",
      "(1.0, 0.5, 2.5, 3.1)\n",
      "7.1\n"
     ]
    }
   ],
   "source": [
    "print (\"Función sum()\")\n",
    "tupla = (1.0, 0.5, 2.5, 3.1)\n",
    "suma = sum(tupla)\n",
    "print (tupla)\n",
    "print (suma)"
   ]
  },
  {
   "cell_type": "markdown",
   "id": "b7fd3791",
   "metadata": {},
   "source": [
    "## Tuplas Anidadas"
   ]
  },
  {
   "cell_type": "code",
   "execution_count": 21,
   "id": "0fa00eb9",
   "metadata": {},
   "outputs": [
    {
     "name": "stdout",
     "output_type": "stream",
     "text": [
      "Tuplas anidadas\n",
      "(1, 2, 3, (4, 5, 6))\n",
      "(1, 2, 3, (4, 5, 6)) <class 'tuple'>\n",
      "(4, 5, 6) <class 'tuple'>\n",
      "4 <class 'int'>\n"
     ]
    }
   ],
   "source": [
    "print (\"Tuplas anidadas\")\n",
    "tupla = (1,2,3, (4,5,6))\n",
    "print (tupla)\n",
    "print (tupla, type(tupla))\n",
    "print (tupla[3], type(tupla[3]))\n",
    "print (tupla[3][0], type(tupla[3][0]))"
   ]
  },
  {
   "cell_type": "code",
   "execution_count": 22,
   "id": "5f0dbb1b",
   "metadata": {},
   "outputs": [
    {
     "name": "stdout",
     "output_type": "stream",
     "text": [
      "Tuplas anidadas\n",
      "(1, 2, 3, (4, 5, 6)) <class 'tuple'>\n",
      "(4, 5, 6) <class 'tuple'>\n",
      "4 <class 'int'>\n",
      "5 <class 'int'>\n"
     ]
    }
   ],
   "source": [
    "print (\"Tuplas anidadas\")\n",
    "tupla = (1,2,3, (4,5,6))\n",
    "print (tupla, type(tupla))\n",
    "anidado = tupla[3]\n",
    "print (anidado, type(anidado))\n",
    "valor_anidado_0 = anidado[0]\n",
    "print (valor_anidado_0, type(valor_anidado_0))\n",
    "valor_anidado_1 = tupla[3][1]\n",
    "print (valor_anidado_1, type(valor_anidado_1))"
   ]
  }
 ],
 "metadata": {
  "kernelspec": {
   "display_name": "Python 3",
   "language": "python",
   "name": "python3"
  },
  "language_info": {
   "codemirror_mode": {
    "name": "ipython",
    "version": 3
   },
   "file_extension": ".py",
   "mimetype": "text/x-python",
   "name": "python",
   "nbconvert_exporter": "python",
   "pygments_lexer": "ipython3",
   "version": "3.13.3"
  }
 },
 "nbformat": 4,
 "nbformat_minor": 5
}
