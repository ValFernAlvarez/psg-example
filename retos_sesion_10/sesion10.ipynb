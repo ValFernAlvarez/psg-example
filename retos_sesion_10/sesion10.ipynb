{
 "cells": [
  {
   "cell_type": "markdown",
   "id": "b7b15a9a",
   "metadata": {},
   "source": [
    "# ESTRUCTURA DE DATOS: CONJUNTOS\n",
    "## Conjunto de Enteros"
   ]
  },
  {
   "cell_type": "code",
   "execution_count": 1,
   "id": "64e38b49",
   "metadata": {},
   "outputs": [
    {
     "name": "stdout",
     "output_type": "stream",
     "text": [
      "Conjunto de enteros\n",
      "{1, 2, 3, 4, 5}\n",
      "<class 'set'>\n"
     ]
    }
   ],
   "source": [
    "print (\"Conjunto de enteros\")\n",
    "conjunto = {1, 2, 3, 4, 5}\n",
    "print(conjunto) \n",
    "print(type(conjunto))"
   ]
  },
  {
   "cell_type": "markdown",
   "id": "d70081d5",
   "metadata": {},
   "source": [
    "## Conjunto de Cadenas"
   ]
  },
  {
   "cell_type": "code",
   "execution_count": 2,
   "id": "6523756b",
   "metadata": {},
   "outputs": [
    {
     "name": "stdout",
     "output_type": "stream",
     "text": [
      "Conjunto de cadenas\n",
      "{'🍕', '🌭', '🍟', '🍔'}\n",
      "<class 'set'>\n"
     ]
    }
   ],
   "source": [
    "print (\"Conjunto de cadenas\")\n",
    "conjunto = {'🍕','🍔','🍟','🌭'}\n",
    "print(conjunto)\n",
    "print(type(conjunto))"
   ]
  },
  {
   "cell_type": "markdown",
   "id": "951e151d",
   "metadata": {},
   "source": [
    "## Conjunto Mixto"
   ]
  },
  {
   "cell_type": "code",
   "execution_count": 3,
   "id": "1fb627de",
   "metadata": {},
   "outputs": [
    {
     "name": "stdout",
     "output_type": "stream",
     "text": [
      "Conjunto mixto\n",
      "{1, 3.14, '☕'}\n",
      "<class 'set'>\n"
     ]
    }
   ],
   "source": [
    "print (\"Conjunto mixto\")\n",
    "conjunto = {1, True, 3.14, '☕'}\n",
    "print(conjunto)\n",
    "print(type(conjunto))"
   ]
  },
  {
   "cell_type": "markdown",
   "id": "f602e34c",
   "metadata": {},
   "source": [
    "## Conjunto Vacío"
   ]
  },
  {
   "cell_type": "code",
   "execution_count": 4,
   "id": "4540029c",
   "metadata": {},
   "outputs": [
    {
     "name": "stdout",
     "output_type": "stream",
     "text": [
      "Conjunto vacío\n",
      "set()\n",
      "<class 'set'>\n"
     ]
    }
   ],
   "source": [
    "print (\"Conjunto vacío\")\n",
    "conjunto = set()\n",
    "print(conjunto)\n",
    "print(type(conjunto))"
   ]
  },
  {
   "cell_type": "markdown",
   "id": "13ae315b",
   "metadata": {},
   "source": [
    "## Conjunto A Partir De Una Cadena"
   ]
  },
  {
   "cell_type": "code",
   "execution_count": 5,
   "id": "67ff8b98",
   "metadata": {},
   "outputs": [
    {
     "name": "stdout",
     "output_type": "stream",
     "text": [
      "Conjunto a partir de la cadena\n",
      "{'l', 'o', 'u', 'a', 'M', ' ', 'd', 'n', 'H'}\n",
      "<class 'set'>\n"
     ]
    }
   ],
   "source": [
    "print (\"Conjunto a partir de la cadena\")\n",
    "cadena = 'Hola Mundo'\n",
    "conjunto = set(cadena)\n",
    "print(conjunto)\n",
    "print(type(conjunto))"
   ]
  },
  {
   "cell_type": "markdown",
   "id": "1150e70a",
   "metadata": {},
   "source": [
    "## Conjunto A Partir De Una Tupla"
   ]
  },
  {
   "cell_type": "code",
   "execution_count": 6,
   "id": "fbe9319e",
   "metadata": {},
   "outputs": [
    {
     "name": "stdout",
     "output_type": "stream",
     "text": [
      "Conjunto a partir de una tupla\n",
      "{1, 2, 3, 4, 5}\n",
      "<class 'set'>\n"
     ]
    }
   ],
   "source": [
    "print (\"Conjunto a partir de una tupla\")\n",
    "tupla = (1, 2, 3, 4, 5, 5)\n",
    "conjunto = set(tupla)\n",
    "print(conjunto)\n",
    "print(type(conjunto))"
   ]
  },
  {
   "cell_type": "markdown",
   "id": "fd9c56e4",
   "metadata": {},
   "source": [
    "## Conjunto A Partir De Una Lista"
   ]
  },
  {
   "cell_type": "code",
   "execution_count": 7,
   "id": "89acc31a",
   "metadata": {},
   "outputs": [
    {
     "name": "stdout",
     "output_type": "stream",
     "text": [
      "Conjunto a partir de una lista\n",
      "{False, True}\n",
      "<class 'set'>\n"
     ]
    }
   ],
   "source": [
    "print (\"Conjunto a partir de una lista\")\n",
    "lista = [True, False, 0, 1]\n",
    "conjunto = set(lista)\n",
    "print(conjunto)\n",
    "print(type(conjunto))"
   ]
  },
  {
   "cell_type": "markdown",
   "id": "1d10069c",
   "metadata": {},
   "source": [
    "## Conjunto Por Comprensión"
   ]
  },
  {
   "cell_type": "code",
   "execution_count": 8,
   "id": "7cbd75d4",
   "metadata": {},
   "outputs": [
    {
     "name": "stdout",
     "output_type": "stream",
     "text": [
      "Conjunto por comprensión\n",
      "{'🍟', '🍕', '🍔'}\n",
      "<class 'set'>\n"
     ]
    }
   ],
   "source": [
    "print (\"Conjunto por comprensión\")\n",
    "conjunto = {x for x in '🍕🍔🍟🍕🍔🍟🍔🍟'}\n",
    "print(conjunto)\n",
    "print(type(conjunto))"
   ]
  },
  {
   "cell_type": "markdown",
   "id": "ca482cbc",
   "metadata": {},
   "source": [
    "## Indexación Y Slicing"
   ]
  },
  {
   "cell_type": "code",
   "execution_count": 9,
   "id": "aaef2ae4",
   "metadata": {},
   "outputs": [
    {
     "ename": "TypeError",
     "evalue": "'set' object is not subscriptable",
     "output_type": "error",
     "traceback": [
      "\u001b[31m---------------------------------------------------------------------------\u001b[39m",
      "\u001b[31mTypeError\u001b[39m                                 Traceback (most recent call last)",
      "\u001b[36mCell\u001b[39m\u001b[36m \u001b[39m\u001b[32mIn[9]\u001b[39m\u001b[32m, line 2\u001b[39m\n\u001b[32m      1\u001b[39m conjunto = {\u001b[32m1\u001b[39m, \u001b[32m2\u001b[39m, \u001b[32m3\u001b[39m, \u001b[32m4\u001b[39m, \u001b[32m5\u001b[39m}\n\u001b[32m----> \u001b[39m\u001b[32m2\u001b[39m \u001b[38;5;28mprint\u001b[39m(\u001b[43mconjunto\u001b[49m\u001b[43m[\u001b[49m\u001b[32;43m0\u001b[39;49m\u001b[43m]\u001b[49m) \u001b[38;5;66;03m# TypeError: 'set' object is not subscriptable\u001b[39;00m\n",
      "\u001b[31mTypeError\u001b[39m: 'set' object is not subscriptable"
     ]
    }
   ],
   "source": [
    "conjunto = {1, 2, 3, 4, 5}\n",
    "print(conjunto[0]) # TypeError: 'set' object is not subscriptable"
   ]
  },
  {
   "cell_type": "code",
   "execution_count": 10,
   "id": "c09637ba",
   "metadata": {},
   "outputs": [
    {
     "ename": "TypeError",
     "evalue": "'set' object is not subscriptable",
     "output_type": "error",
     "traceback": [
      "\u001b[31m---------------------------------------------------------------------------\u001b[39m",
      "\u001b[31mTypeError\u001b[39m                                 Traceback (most recent call last)",
      "\u001b[36mCell\u001b[39m\u001b[36m \u001b[39m\u001b[32mIn[10]\u001b[39m\u001b[32m, line 2\u001b[39m\n\u001b[32m      1\u001b[39m conjunto = {\u001b[32m1\u001b[39m, \u001b[32m2\u001b[39m, \u001b[32m3\u001b[39m, \u001b[32m4\u001b[39m, \u001b[32m5\u001b[39m}\n\u001b[32m----> \u001b[39m\u001b[32m2\u001b[39m \u001b[38;5;28mprint\u001b[39m(\u001b[43mconjunto\u001b[49m\u001b[43m[\u001b[49m\u001b[32;43m0\u001b[39;49m\u001b[43m:\u001b[49m\u001b[32;43m3\u001b[39;49m\u001b[43m]\u001b[49m) \u001b[38;5;66;03m# TypeError: 'set' object is not subscriptable\u001b[39;00m\n",
      "\u001b[31mTypeError\u001b[39m: 'set' object is not subscriptable"
     ]
    }
   ],
   "source": [
    "conjunto = {1, 2, 3, 4, 5}\n",
    "print(conjunto[0:3]) # TypeError: 'set' object is not subscriptable"
   ]
  },
  {
   "cell_type": "markdown",
   "id": "15a3063d",
   "metadata": {},
   "source": [
    "## Concatenación De Conjuntos"
   ]
  },
  {
   "cell_type": "code",
   "execution_count": 11,
   "id": "a3b063f7",
   "metadata": {},
   "outputs": [
    {
     "ename": "TypeError",
     "evalue": "unsupported operand type(s) for +: 'set' and 'set'",
     "output_type": "error",
     "traceback": [
      "\u001b[31m---------------------------------------------------------------------------\u001b[39m",
      "\u001b[31mTypeError\u001b[39m                                 Traceback (most recent call last)",
      "\u001b[36mCell\u001b[39m\u001b[36m \u001b[39m\u001b[32mIn[11]\u001b[39m\u001b[32m, line 3\u001b[39m\n\u001b[32m      1\u001b[39m conjunto1 = {\u001b[32m1\u001b[39m, \u001b[32m2\u001b[39m, \u001b[32m3\u001b[39m}\n\u001b[32m      2\u001b[39m conjunto2 = {\u001b[32m4\u001b[39m, \u001b[32m5\u001b[39m, \u001b[32m6\u001b[39m}\n\u001b[32m----> \u001b[39m\u001b[32m3\u001b[39m \u001b[38;5;28mprint\u001b[39m(\u001b[43mconjunto1\u001b[49m\u001b[43m \u001b[49m\u001b[43m+\u001b[49m\u001b[43m \u001b[49m\u001b[43mconjunto2\u001b[49m)\n\u001b[32m      4\u001b[39m \u001b[38;5;66;03m# TypeError: unsupported operand type(s) for +: 'set' and 'set'\u001b[39;00m\n",
      "\u001b[31mTypeError\u001b[39m: unsupported operand type(s) for +: 'set' and 'set'"
     ]
    }
   ],
   "source": [
    "conjunto1 = {1, 2, 3}\n",
    "conjunto2 = {4, 5, 6}\n",
    "print(conjunto1 + conjunto2)\n",
    "# TypeError: unsupported operand type(s) for +: 'set' and 'set'"
   ]
  },
  {
   "cell_type": "markdown",
   "id": "a4f0158c",
   "metadata": {},
   "source": [
    "## Repetición Con Conjuntos"
   ]
  },
  {
   "cell_type": "code",
   "execution_count": 12,
   "id": "09a14b52",
   "metadata": {},
   "outputs": [
    {
     "ename": "TypeError",
     "evalue": "unsupported operand type(s) for *: 'set' and 'int'",
     "output_type": "error",
     "traceback": [
      "\u001b[31m---------------------------------------------------------------------------\u001b[39m",
      "\u001b[31mTypeError\u001b[39m                                 Traceback (most recent call last)",
      "\u001b[36mCell\u001b[39m\u001b[36m \u001b[39m\u001b[32mIn[12]\u001b[39m\u001b[32m, line 2\u001b[39m\n\u001b[32m      1\u001b[39m conjunto = {\u001b[32m1\u001b[39m, \u001b[32m2\u001b[39m, \u001b[32m3\u001b[39m}\n\u001b[32m----> \u001b[39m\u001b[32m2\u001b[39m \u001b[38;5;28mprint\u001b[39m(\u001b[43mconjunto\u001b[49m\u001b[43m \u001b[49m\u001b[43m*\u001b[49m\u001b[43m \u001b[49m\u001b[32;43m3\u001b[39;49m)\n\u001b[32m      3\u001b[39m \u001b[38;5;66;03m# TypeError: unsupported operand type(s) for *: 'set' and 'int'\u001b[39;00m\n",
      "\u001b[31mTypeError\u001b[39m: unsupported operand type(s) for *: 'set' and 'int'"
     ]
    }
   ],
   "source": [
    "conjunto = {1, 2, 3}\n",
    "print(conjunto * 3)\n",
    "# TypeError: unsupported operand type(s) for *: 'set' and 'int'"
   ]
  },
  {
   "cell_type": "markdown",
   "id": "e42ebbe9",
   "metadata": {},
   "source": [
    "## Métodos De Los Conjuntos\n",
    "### Adición\n",
    "- add()\n",
    "- update()"
   ]
  },
  {
   "cell_type": "code",
   "execution_count": 13,
   "id": "929c94be",
   "metadata": {},
   "outputs": [
    {
     "name": "stdout",
     "output_type": "stream",
     "text": [
      "Método add()\n",
      "{'🍕', '🌭', '🍟', '🍔'}\n",
      "{'🥗', '🌭', '🍟', '🍕', '🍔'}\n"
     ]
    }
   ],
   "source": [
    "print (\"Método add()\")\n",
    "conjunto = {'🍕','🍔','🍟','🌭'}\n",
    "print (conjunto)\n",
    "conjunto.add('🥗')\n",
    "print(conjunto) "
   ]
  },
  {
   "cell_type": "code",
   "execution_count": 14,
   "id": "5ba1942f",
   "metadata": {},
   "outputs": [
    {
     "name": "stdout",
     "output_type": "stream",
     "text": [
      "Método update()\n",
      "{'🍕', '🌭', '🍟', '🍔'}\n",
      "{'🌭', '🍟', '🍕', '🍦', '🍔', '🥤'}\n",
      "{'🍪', '🌭', '🍟', '🍕', '🍦', '🍔', '🍩', '🥤'}\n",
      "{'🍫', '🍪', '🌭', '🍟', '🍕', '🍦', '🍔', '🍬', '🍩', '🥤'}\n",
      "{'🍮', '🍫', '🍪', '🌭', '🍟', '🍕', '🍦', '🍔', '🍬', '🍭', '🍩', '🥤'}\n"
     ]
    }
   ],
   "source": [
    "print (\"Método update()\")\n",
    "conjunto = {'🍕','🍔','🍟','🌭'}\n",
    "print (conjunto)\n",
    "conjunto.update(['🥤','🍦'])\n",
    "print(conjunto) \n",
    "conjunto.update('🍩🍪')\n",
    "print(conjunto) \n",
    "conjunto.update(('🍫','🍬'))\n",
    "print(conjunto)\n",
    "conjunto.update({'🍭','🍮'})\n",
    "print(conjunto)"
   ]
  },
  {
   "cell_type": "markdown",
   "id": "11e3eabc",
   "metadata": {},
   "source": [
    "### Eliminación\n",
    "- remove()\n",
    "- discard()\n",
    "- pop()\n",
    "- clear()"
   ]
  },
  {
   "cell_type": "code",
   "execution_count": 15,
   "id": "d6397864",
   "metadata": {},
   "outputs": [
    {
     "name": "stdout",
     "output_type": "stream",
     "text": [
      "Método remove()\n",
      "{'🍕', '🌭', '🍟', '🍔'}\n",
      "{'🍕', '🌭', '🍟'}\n"
     ]
    }
   ],
   "source": [
    "print (\"Método remove()\")\n",
    "conjunto = {'🍕','🍔','🍟','🌭'} \n",
    "print (conjunto)\n",
    "conjunto.remove('🍔')\n",
    "print(conjunto)\n"
   ]
  },
  {
   "cell_type": "code",
   "execution_count": 16,
   "id": "c8ea243a",
   "metadata": {},
   "outputs": [
    {
     "name": "stdout",
     "output_type": "stream",
     "text": [
      "Método discard()\n",
      "{'🍕', '🌭', '🍟', '🍔'}\n",
      "{'🍕', '🌭', '🍟'}\n",
      "{'🍕', '🌭', '🍟'}\n"
     ]
    }
   ],
   "source": [
    "print (\"Método discard()\")\n",
    "conjunto = {'🍕','🍔','🍟','🌭'}\n",
    "print (conjunto)\n",
    "conjunto.discard('🍔')\n",
    "print(conjunto)\n",
    "conjunto.discard('🍔')\n",
    "print(conjunto)"
   ]
  },
  {
   "cell_type": "code",
   "execution_count": 17,
   "id": "aae71e75",
   "metadata": {},
   "outputs": [
    {
     "name": "stdout",
     "output_type": "stream",
     "text": [
      "Método pop()\n",
      "{'🍕', '🍦', '🍔', '🥤', '🌭', '🍟'}\n",
      "🍕\n",
      "{'🍦', '🍔', '🥤', '🌭', '🍟'}\n",
      "🍦\n",
      "{'🍔', '🥤', '🌭', '🍟'}\n"
     ]
    }
   ],
   "source": [
    "print (\"Método pop()\")\n",
    "conjunto = {'🍕','🍔','🍟','🌭', '🥤','🍦'}\n",
    "print (conjunto)\n",
    "print(conjunto.pop())\n",
    "print(conjunto)\n",
    "print(conjunto.pop())\n",
    "print(conjunto)"
   ]
  },
  {
   "cell_type": "code",
   "execution_count": 18,
   "id": "4acc715e",
   "metadata": {},
   "outputs": [
    {
     "name": "stdout",
     "output_type": "stream",
     "text": [
      "Método clear()\n",
      "{'🍕', '🌭', '🍟', '🍔'}\n",
      "set()\n"
     ]
    }
   ],
   "source": [
    "print (\"Método clear()\")\n",
    "conjunto = {'🍕','🍔','🍟','🌭'}\n",
    "print (conjunto)\n",
    "conjunto.clear()\n",
    "print(conjunto)"
   ]
  },
  {
   "cell_type": "markdown",
   "id": "4f8477a2",
   "metadata": {},
   "source": [
    "###  Operaciones con conjuntos\n",
    "- union() : Unión de conjuntos\n",
    "- intersection() : Intersección de conjuntos\n",
    "- difference() : Diferencia de conjuntos\n",
    "- symmetric_difference() : Diferencia simétrica de conjuntos"
   ]
  },
  {
   "cell_type": "code",
   "execution_count": 19,
   "id": "6a39af76",
   "metadata": {},
   "outputs": [
    {
     "name": "stdout",
     "output_type": "stream",
     "text": [
      "Método union()\n",
      "{'🥤', '🍔', '🍟'} {'🍨', '🍕', '🥤'}\n",
      "{'🍕', '🍔', '🍨', '🥤', '🍟'}\n"
     ]
    }
   ],
   "source": [
    "print (\"Método union()\")\n",
    "conjunto1 = {'🍔','🍟', '🥤'}\n",
    "conjunto2 = {'🍕','🍨','🥤'}\n",
    "print (conjunto1, conjunto2)\n",
    "union = conjunto1.union(conjunto2)\n",
    "print(union)"
   ]
  },
  {
   "cell_type": "code",
   "execution_count": 20,
   "id": "801ef546",
   "metadata": {},
   "outputs": [
    {
     "name": "stdout",
     "output_type": "stream",
     "text": [
      "Método intersection()\n",
      "{'🥤', '🍔', '🍟'} {'🍨', '🍕', '🥤'}\n",
      "{'🥤'}\n"
     ]
    }
   ],
   "source": [
    "print (\"Método intersection()\")\n",
    "conjunto1 = {'🍔','🍟', '🥤'}\n",
    "conjunto2 = {'🍕','🍨','🥤'}\n",
    "print (conjunto1, conjunto2)\n",
    "interseccion = conjunto1.intersection(conjunto2)\n",
    "print(interseccion)"
   ]
  },
  {
   "cell_type": "code",
   "execution_count": 21,
   "id": "23d7e512",
   "metadata": {},
   "outputs": [
    {
     "name": "stdout",
     "output_type": "stream",
     "text": [
      "Método difference()\n",
      "1: {'🥤', '🍔', '🍟'} 2: {'🍨', '🍕', '🥤'}\n",
      "1 y 2: {'🍟', '🍔'}\n",
      "2 y 1: {'🍨', '🍕'}\n"
     ]
    }
   ],
   "source": [
    "print (\"Método difference()\")\n",
    "conjunto1 = {'🍔','🍟', '🥤'}\n",
    "conjunto2 = {'🍕','🍨','🥤'}\n",
    "print (\"1:\",conjunto1, \"2:\",conjunto2)\n",
    "diferencia = conjunto1.difference(conjunto2)\n",
    "print(\"1 y 2:\",diferencia)\n",
    "diferencia = conjunto2.difference(conjunto1)\n",
    "print(\"2 y 1:\",diferencia)"
   ]
  },
  {
   "cell_type": "code",
   "execution_count": 22,
   "id": "bc66f45c",
   "metadata": {},
   "outputs": [
    {
     "name": "stdout",
     "output_type": "stream",
     "text": [
      "Método symmetric_difference()\n",
      "{'🥤', '🍔', '🍟'} {'🍨', '🍕', '🥤'}\n",
      "{'🍨', '🍟', '🍕', '🍔'}\n"
     ]
    }
   ],
   "source": [
    "print (\"Método symmetric_difference()\")\n",
    "conjunto1 = {'🍔','🍟', '🥤'}\n",
    "conjunto2 = {'🍕','🍨','🥤'}\n",
    "print (conjunto1, conjunto2)\n",
    "diferencia_simetrica = conjunto1.symmetric_difference(conjunto2)\n",
    "print(diferencia_simetrica)"
   ]
  },
  {
   "cell_type": "markdown",
   "id": "563429a6",
   "metadata": {},
   "source": [
    "### Asignación con operaciones\n",
    "- intersection_update() : Intersección\n",
    "- difference_update() : Diferencia\n",
    "- symmetric_difference_update() : Diferencia simétrica"
   ]
  },
  {
   "cell_type": "code",
   "execution_count": 23,
   "id": "9cca1d2d",
   "metadata": {},
   "outputs": [
    {
     "name": "stdout",
     "output_type": "stream",
     "text": [
      "Método intersection_update()\n",
      "{'🥤', '🍔', '🍟'} {'🍨', '🍕', '🥤'}\n",
      "{'🥤'}\n"
     ]
    }
   ],
   "source": [
    "print (\"Método intersection_update()\")\n",
    "conjunto1 = {'🍔','🍟', '🥤'}\n",
    "conjunto2 = {'🍕','🍨','🥤'}\n",
    "print (conjunto1, conjunto2)\n",
    "conjunto1.intersection_update(conjunto2)\n",
    "print(conjunto1)"
   ]
  },
  {
   "cell_type": "code",
   "execution_count": 24,
   "id": "12a22b24",
   "metadata": {},
   "outputs": [
    {
     "name": "stdout",
     "output_type": "stream",
     "text": [
      "Método difference_update()\n",
      "1: {'🥤', '🍔', '🍟'} 2: {'🍨', '🍕', '🥤'}\n",
      "1: {'🍔', '🍟'} 2: {'🍨', '🍕', '🥤'}\n"
     ]
    }
   ],
   "source": [
    "print (\"Método difference_update()\")\n",
    "conjunto1 = {'🍔','🍟', '🥤'}\n",
    "conjunto2 = {'🍕','🍨','🥤'}\n",
    "print (\"1:\",conjunto1, \"2:\",conjunto2)\n",
    "conjunto1.difference_update(conjunto2)\n",
    "print (\"1:\",conjunto1, \"2:\",conjunto2)"
   ]
  },
  {
   "cell_type": "code",
   "execution_count": 25,
   "id": "a7aa64c0",
   "metadata": {},
   "outputs": [
    {
     "name": "stdout",
     "output_type": "stream",
     "text": [
      "Método symmetric_difference_update()\n",
      "{'🥤', '🍔', '🍟'} {'🍨', '🍕', '🥤'}\n",
      "{'🍨', '🍟', '🍕', '🍔'}\n"
     ]
    }
   ],
   "source": [
    "print (\"Método symmetric_difference_update()\")\n",
    "conjunto1 = {'🍔','🍟', '🥤'}\n",
    "conjunto2 = {'🍕','🍨','🥤'}\n",
    "print (conjunto1, conjunto2)\n",
    "conjunto1.symmetric_difference_update(conjunto2)\n",
    "print(conjunto1)"
   ]
  },
  {
   "cell_type": "markdown",
   "id": "d22e70cb",
   "metadata": {},
   "source": [
    "### Búsqueda\n",
    "- issubset() : Subconjunto\n",
    "- issuperset() : Superconjunto\n",
    "- isdisjoint() : Disjunto"
   ]
  },
  {
   "cell_type": "code",
   "execution_count": 26,
   "id": "97d6be9d",
   "metadata": {},
   "outputs": [
    {
     "name": "stdout",
     "output_type": "stream",
     "text": [
      "Método issubset()\n",
      "{'🥤', '🍔', '🍟'} {'🍨', '🍕', '🥤'} {'🍟', '🍔'}\n",
      "False\n",
      "True\n"
     ]
    }
   ],
   "source": [
    "print (\"Método issubset()\")\n",
    "conjunto1 = {'🍔','🍟', '🥤'}\n",
    "conjunto2 = {'🍕','🍨','🥤'}\n",
    "conjunto3 = {'🍔','🍟'}\n",
    "print (conjunto1, conjunto2,conjunto3)\n",
    "# ¿El conjunto1 es subconjunto del conjunto2?\n",
    "print(conjunto1.issubset(conjunto2))\n",
    "# ¿El conjunto3 es subconjunto del conjunto1?\n",
    "print(conjunto3.issubset(conjunto1))"
   ]
  },
  {
   "cell_type": "code",
   "execution_count": 27,
   "id": "607a2c2b",
   "metadata": {},
   "outputs": [
    {
     "name": "stdout",
     "output_type": "stream",
     "text": [
      "Método issuperset()\n",
      "{'🥤', '🍔', '🍟'} {'🍨', '🍕', '🥤'} {'🍟', '🍔'}\n",
      "False\n",
      "True\n"
     ]
    }
   ],
   "source": [
    "print (\"Método issuperset()\")\n",
    "conjunto1 = {'🍔','🍟', '🥤'}\n",
    "conjunto2 = {'🍕','🍨','🥤'}\n",
    "conjunto3 = {'🍔','🍟'}\n",
    "print (conjunto1, conjunto2,conjunto3)\n",
    "# ¿El conjunto1 es superconjunto del conjunto2?\n",
    "print(conjunto1.issuperset(conjunto2)) # C1 contiene a C2?\n",
    "# ¿El conjunto1 es superconjunto del conjunto2?\n",
    "print(conjunto1.issuperset(conjunto3)) # C1 contiene a C3?"
   ]
  },
  {
   "cell_type": "code",
   "execution_count": 28,
   "id": "7e2823da",
   "metadata": {},
   "outputs": [
    {
     "name": "stdout",
     "output_type": "stream",
     "text": [
      "Método isdisjoint()\n",
      "{'🥤', '🍔', '🍟'} {'🍨', '🍕'} {'🍟', '🍔'}\n",
      "True\n",
      "False\n"
     ]
    }
   ],
   "source": [
    "print (\"Método isdisjoint()\")\n",
    "conjunto1 = {'🍔','🍟', '🥤'}\n",
    "conjunto2 = {'🍕','🍨'}\n",
    "conjunto3 = {'🍔','🍟'}\n",
    "print (conjunto1, conjunto2,conjunto3)\n",
    "# ¿El conjunto1 no tiene elementos en común con el conjunto2?\n",
    "print(conjunto1.isdisjoint(conjunto2))\n",
    "# ¿El conjunto1 no tiene elementos en común con el conjunto3?\n",
    "print(conjunto1.isdisjoint(conjunto3))"
   ]
  },
  {
   "cell_type": "markdown",
   "id": "db92ffe2",
   "metadata": {},
   "source": [
    "### Copia\n",
    "- copy()"
   ]
  },
  {
   "cell_type": "code",
   "execution_count": 29,
   "id": "14dfe5b7",
   "metadata": {},
   "outputs": [
    {
     "name": "stdout",
     "output_type": "stream",
     "text": [
      "Asignación por referencia\n",
      "{'🍕', '🌭', '🍟', '🍔'}\n",
      "{'🥗', '🌭', '🍟', '🍕', '🍔'}\n",
      "{'🥗', '🌭', '🍟', '🍕', '🍔'}\n"
     ]
    }
   ],
   "source": [
    "print (\"Asignación por referencia\")\n",
    "conjunto = {'🍕','🍔','🍟','🌭'}\n",
    "print (conjunto)\n",
    "copia = conjunto\n",
    "copia.add('🥗')\n",
    "print(conjunto)\n",
    "print(copia)"
   ]
  },
  {
   "cell_type": "code",
   "execution_count": 30,
   "id": "72905c9f",
   "metadata": {},
   "outputs": [
    {
     "name": "stdout",
     "output_type": "stream",
     "text": [
      "Método copy()\n",
      "{'🍕', '🌭', '🍟', '🍔'}\n",
      "{'🍕', '🌭', '🍟', '🍔'}\n",
      "{'🥗', '🌭', '🍟', '🍕', '🍔'}\n"
     ]
    }
   ],
   "source": [
    "print (\"Método copy()\")\n",
    "conjunto = {'🍕','🍔','🍟','🌭'}\n",
    "print (conjunto)\n",
    "copia = conjunto.copy()\n",
    "copia.add('🥗')\n",
    "print(conjunto)\n",
    "print(copia)"
   ]
  },
  {
   "cell_type": "markdown",
   "id": "68ee35d0",
   "metadata": {},
   "source": [
    "## Funciones Con Conjuntos\n",
    "### len()"
   ]
  },
  {
   "cell_type": "code",
   "execution_count": 31,
   "id": "47dc7f37",
   "metadata": {},
   "outputs": [
    {
     "name": "stdout",
     "output_type": "stream",
     "text": [
      "Función len()\n",
      "{'🍕', '🌭', '🍟', '🍔'}\n",
      "4\n"
     ]
    }
   ],
   "source": [
    "print (\"Función len()\")\n",
    "conjunto = {'🍕','🍔','🍟','🌭'}\n",
    "print (conjunto)\n",
    "print(len(conjunto))"
   ]
  },
  {
   "cell_type": "markdown",
   "id": "03017039",
   "metadata": {},
   "source": [
    "### max()"
   ]
  },
  {
   "cell_type": "code",
   "execution_count": 32,
   "id": "554cd73e",
   "metadata": {},
   "outputs": [
    {
     "name": "stdout",
     "output_type": "stream",
     "text": [
      "Función max()\n",
      "{1, 2, 3, 4, 5}\n",
      "5\n",
      "{'🍕', '🌭', '🍟', '🍔'}\n",
      "🍟\n"
     ]
    }
   ],
   "source": [
    "print (\"Función max()\")\n",
    "conjunto = {1, 2, 3, 4, 5}\n",
    "print (conjunto)\n",
    "print (max(conjunto))\n",
    "conjunto = {'🍕','🍔','🍟','🌭'}\n",
    "print (conjunto)\n",
    "print(max(conjunto))"
   ]
  },
  {
   "cell_type": "markdown",
   "id": "9fe07795",
   "metadata": {},
   "source": [
    "###  min()"
   ]
  },
  {
   "cell_type": "code",
   "execution_count": 33,
   "id": "3feef59f",
   "metadata": {},
   "outputs": [
    {
     "name": "stdout",
     "output_type": "stream",
     "text": [
      "Función min()\n",
      "{1, 2, 3, 4, 5}\n",
      "1\n",
      "{'🍨', '🍕', '🍔', '🍟'}\n",
      "🍔\n"
     ]
    }
   ],
   "source": [
    "print (\"Función min()\")\n",
    "conjunto = {1, 2, 3, 4, 5}\n",
    "print (conjunto)\n",
    "print (min(conjunto))\n",
    "conjunto = {'🍨','🍔','🍟','🍕'}\n",
    "print (conjunto)\n",
    "print(min(conjunto))"
   ]
  },
  {
   "cell_type": "markdown",
   "id": "5bda17d8",
   "metadata": {},
   "source": [
    "### sum()"
   ]
  },
  {
   "cell_type": "code",
   "execution_count": 34,
   "id": "d94c6fbf",
   "metadata": {},
   "outputs": [
    {
     "name": "stdout",
     "output_type": "stream",
     "text": [
      "Función sum()\n",
      "{1, 2, 3, 4, 5}\n",
      "15\n"
     ]
    }
   ],
   "source": [
    "print (\"Función sum()\")\n",
    "conjunto = {1, 2, 3, 4, 5}\n",
    "print (conjunto)\n",
    "print (sum(conjunto))"
   ]
  },
  {
   "cell_type": "markdown",
   "id": "4b78d9d8",
   "metadata": {},
   "source": [
    "## Operadores con Conjuntos\n",
    "### Adición"
   ]
  },
  {
   "cell_type": "code",
   "execution_count": 35,
   "id": "098cc9b5",
   "metadata": {},
   "outputs": [
    {
     "name": "stdout",
     "output_type": "stream",
     "text": [
      "Operador |=\n",
      "{'🥤', '🍔', '🍟'} {'🍨', '🍕'}\n",
      "{'🍕', '🍔', '🍨', '🥤', '🍟'}\n"
     ]
    }
   ],
   "source": [
    "print (\"Operador |=\")\n",
    "conjunto1 = {'🍔','🍟', '🥤'}\n",
    "conjunto2 = {'🍕','🍨'}\n",
    "print (conjunto1, conjunto2)\n",
    "conjunto1 |= conjunto2\n",
    "print(conjunto1)"
   ]
  },
  {
   "cell_type": "markdown",
   "id": "16fa55d1",
   "metadata": {},
   "source": [
    "### Comparación"
   ]
  },
  {
   "cell_type": "code",
   "execution_count": 36,
   "id": "9af7ea1c",
   "metadata": {},
   "outputs": [
    {
     "name": "stdout",
     "output_type": "stream",
     "text": [
      "Operador ==\n",
      "{'🥤', '🍔', '🍟'} {'🥤', '🍔', '🍟'} {'🍨', '🍕'}\n",
      "True\n",
      "False\n"
     ]
    }
   ],
   "source": [
    "print (\"Operador ==\")\n",
    "conjunto1 = {'🍔','🍟', '🥤'}\n",
    "conjunto2 = {'🍔','🍟', '🥤'}\n",
    "conjunto3 = {'🍕','🍨'}\n",
    "print (conjunto1, conjunto2, conjunto3)\n",
    "print(conjunto1 == conjunto2)\n",
    "print(conjunto1 == conjunto3)"
   ]
  },
  {
   "cell_type": "code",
   "execution_count": 37,
   "id": "a75382aa",
   "metadata": {},
   "outputs": [
    {
     "name": "stdout",
     "output_type": "stream",
     "text": [
      "Operador !=\n",
      "{'🥤', '🍔', '🍟'} {'🥤', '🍔', '🍟'} {'🍨', '🍕'}\n",
      "False\n",
      "True\n"
     ]
    }
   ],
   "source": [
    "print (\"Operador !=\")\n",
    "conjunto1 = {'🍔','🍟', '🥤'}\n",
    "conjunto2 = {'🍔','🍟', '🥤'}\n",
    "conjunto3 = {'🍕','🍨'}\n",
    "print (conjunto1, conjunto2, conjunto3)\n",
    "print(conjunto1 != conjunto2)\n",
    "print(conjunto1 != conjunto3)"
   ]
  },
  {
   "cell_type": "code",
   "execution_count": 38,
   "id": "600a12ca",
   "metadata": {},
   "outputs": [
    {
     "name": "stdout",
     "output_type": "stream",
     "text": [
      "Operador <\n",
      "{'🍟', '🍔'} {'🥤', '🍔', '🍟'} {'🍨', '🍕'}\n",
      "True\n",
      "False\n"
     ]
    }
   ],
   "source": [
    "print (\"Operador <\")\n",
    "conjunto1 = {'🍔','🍟'}\n",
    "conjunto2 = {'🍔','🍟', '🥤'}\n",
    "conjunto3 = {'🍕','🍨'}\n",
    "print (conjunto1, conjunto2, conjunto3)\n",
    "print(conjunto1 < conjunto2)\n",
    "print(conjunto1 < conjunto3)"
   ]
  },
  {
   "cell_type": "code",
   "execution_count": 39,
   "id": "a918c626",
   "metadata": {},
   "outputs": [
    {
     "name": "stdout",
     "output_type": "stream",
     "text": [
      "Operador >\n",
      "{'🍕', '🥤', '🍔', '🍟'} {'🥤', '🍔', '🍟'} {'🍨', '🍕'}\n",
      "True\n",
      "False\n"
     ]
    }
   ],
   "source": [
    "print (\"Operador >\")\n",
    "conjunto1 = {'🍔','🍟','🥤','🍕'}\n",
    "conjunto2 = {'🍔','🍟', '🥤'}\n",
    "conjunto3 = {'🍕','🍨'}\n",
    "print (conjunto1, conjunto2, conjunto3)\n",
    "print(conjunto1 > conjunto2)\n",
    "print(conjunto1 > conjunto3)"
   ]
  },
  {
   "cell_type": "code",
   "execution_count": 40,
   "id": "847306ca",
   "metadata": {},
   "outputs": [
    {
     "name": "stdout",
     "output_type": "stream",
     "text": [
      "Operador <=\n",
      "{'🍟', '🍔'} {'🍟', '🍔'} {'🍨', '🍕'}\n",
      "True\n",
      "False\n"
     ]
    }
   ],
   "source": [
    "print (\"Operador <=\")\n",
    "conjunto1 = {'🍔','🍟'}\n",
    "conjunto2 = {'🍔','🍟'}\n",
    "conjunto3 = {'🍕','🍨'}\n",
    "print (conjunto1, conjunto2, conjunto3)\n",
    "print(conjunto1 <= conjunto2)\n",
    "print(conjunto1 <= conjunto3)"
   ]
  },
  {
   "cell_type": "code",
   "execution_count": 41,
   "id": "e1dfdd51",
   "metadata": {},
   "outputs": [
    {
     "name": "stdout",
     "output_type": "stream",
     "text": [
      "Operador >=\n",
      "{'🍟', '🍔'} {'🍟', '🍔'} {'🍨', '🍕'}\n",
      "True\n",
      "False\n"
     ]
    }
   ],
   "source": [
    "print (\"Operador >=\")\n",
    "conjunto1 = {'🍔','🍟'}\n",
    "conjunto2 = {'🍔','🍟'}\n",
    "conjunto3 = {'🍕','🍨'}\n",
    "print (conjunto1, conjunto2, conjunto3)\n",
    "print(conjunto1 >= conjunto2)\n",
    "print(conjunto1 >= conjunto3)"
   ]
  },
  {
   "cell_type": "markdown",
   "id": "9e52458a",
   "metadata": {},
   "source": [
    "### Operadores para operaciones con conjuntos\n",
    "- '|' : Unión\n",
    "- '&' : Intersección\n",
    "- '-' : Diferencia\n",
    "- '^' : Diferencia simétrica"
   ]
  },
  {
   "cell_type": "code",
   "execution_count": 42,
   "id": "ae07a269",
   "metadata": {},
   "outputs": [
    {
     "name": "stdout",
     "output_type": "stream",
     "text": [
      "Operador |\n",
      "{'🥤', '🍔', '🍟'} {'🍨', '🍕', '🥤'}\n",
      "{'🍕', '🍔', '🍨', '🥤', '🍟'}\n"
     ]
    }
   ],
   "source": [
    "print (\"Operador |\")\n",
    "conjunto1 = {'🍔','🍟', '🥤'}\n",
    "conjunto2 = {'🍕','🍨','🥤'}\n",
    "print (conjunto1, conjunto2)\n",
    "union = conjunto1 | conjunto2\n",
    "print(union)"
   ]
  },
  {
   "cell_type": "code",
   "execution_count": 43,
   "id": "29ddd967",
   "metadata": {},
   "outputs": [
    {
     "name": "stdout",
     "output_type": "stream",
     "text": [
      "Operador &\n",
      "{'🥤', '🍔', '🍟'} {'🍨', '🍕', '🥤'}\n",
      "{'🥤'}\n"
     ]
    }
   ],
   "source": [
    "print (\"Operador &\")\n",
    "conjunto1 = {'🍔','🍟', '🥤'}\n",
    "conjunto2 = {'🍕','🍨','🥤'}\n",
    "print (conjunto1, conjunto2)\n",
    "interseccion = conjunto1 & conjunto2\n",
    "print(interseccion)"
   ]
  },
  {
   "cell_type": "code",
   "execution_count": 44,
   "id": "1f818067",
   "metadata": {},
   "outputs": [
    {
     "name": "stdout",
     "output_type": "stream",
     "text": [
      "Operador -\n",
      "1: {'🥤', '🍔', '🍟'} 2: {'🍨', '🍕', '🥤'}\n",
      "1 - 2: {'🍟', '🍔'}\n",
      "2 - 1: {'🍨', '🍕'}\n"
     ]
    }
   ],
   "source": [
    "print (\"Operador -\")\n",
    "conjunto1 = {'🍔','🍟', '🥤'}\n",
    "conjunto2 = {'🍕','🍨','🥤'}\n",
    "print (\"1:\",conjunto1, \"2:\",conjunto2)\n",
    "diferencia = conjunto1 - conjunto2\n",
    "print(\"1 - 2:\",diferencia)\n",
    "diferencia = conjunto2 - conjunto1\n",
    "print(\"2 - 1:\",diferencia)"
   ]
  },
  {
   "cell_type": "code",
   "execution_count": 45,
   "id": "b9ad666b",
   "metadata": {},
   "outputs": [
    {
     "name": "stdout",
     "output_type": "stream",
     "text": [
      "Operador ^\n",
      "{'🥤', '🍔', '🍟'} {'🍨', '🍕', '🥤'}\n",
      "{'🍨', '🍟', '🍕', '🍔'}\n"
     ]
    }
   ],
   "source": [
    "print (\"Operador ^\")\n",
    "conjunto1 = {'🍔','🍟', '🥤'}\n",
    "conjunto2 = {'🍕','🍨','🥤'}\n",
    "print (conjunto1, conjunto2)\n",
    "diferencia_simetrica = conjunto1 ^ conjunto2\n",
    "print(diferencia_simetrica)"
   ]
  },
  {
   "cell_type": "markdown",
   "id": "fd699908",
   "metadata": {},
   "source": [
    "### Operadores para asignación on operaciones\n",
    "- '|=' : Unión\n",
    "- '&=' : Intersección\n",
    "- '-=' : Diferencia\n",
    "- '^=' : Diferencia simétrica"
   ]
  },
  {
   "cell_type": "code",
   "execution_count": 46,
   "id": "82060c85",
   "metadata": {},
   "outputs": [
    {
     "name": "stdout",
     "output_type": "stream",
     "text": [
      "Operador |= Unión\n",
      "{'🥤', '🍔', '🍟'} {'🍨', '🍕', '🥤'}\n",
      "{'🍕', '🍔', '🍨', '🥤', '🍟'}\n"
     ]
    }
   ],
   "source": [
    "print (\"Operador |= Unión\")\n",
    "conjunto1 = {'🍔','🍟', '🥤'}\n",
    "conjunto2 = {'🍕','🍨','🥤'}\n",
    "print (conjunto1, conjunto2)\n",
    "conjunto1 |= conjunto2\n",
    "print(conjunto1)"
   ]
  },
  {
   "cell_type": "code",
   "execution_count": 47,
   "id": "442aa1eb",
   "metadata": {},
   "outputs": [
    {
     "name": "stdout",
     "output_type": "stream",
     "text": [
      "Operador &= Intersección\n",
      "{'🥤', '🍔', '🍟'} {'🍨', '🍕', '🥤'}\n",
      "{'🥤'}\n"
     ]
    }
   ],
   "source": [
    "print (\"Operador &= Intersección\")\n",
    "conjunto1 = {'🍔','🍟', '🥤'}\n",
    "conjunto2 = {'🍕','🍨','🥤'}\n",
    "print (conjunto1, conjunto2)\n",
    "conjunto1 &= conjunto2\n",
    "print(conjunto1)"
   ]
  },
  {
   "cell_type": "code",
   "execution_count": 48,
   "id": "86893eba",
   "metadata": {},
   "outputs": [
    {
     "name": "stdout",
     "output_type": "stream",
     "text": [
      "Operador -= Diferencia\n",
      "1: {'🥤', '🍔', '🍟'} 2: {'🍨', '🍕', '🥤'}\n",
      "1 - 2: {'🍔', '🍟'}\n",
      "2 - 1: {'🍨', '🍕'}\n"
     ]
    }
   ],
   "source": [
    "print (\"Operador -= Diferencia\")\n",
    "conjunto1 = {'🍔','🍟', '🥤'}\n",
    "conjunto2 = {'🍕','🍨','🥤'}\n",
    "print (\"1:\",conjunto1, \"2:\",conjunto2)\n",
    "conjunto1 -= conjunto2\n",
    "print(\"1 - 2:\",conjunto1)\n",
    "conjunto1 = {'🍔','🍟', '🥤'}\n",
    "conjunto2 -= conjunto1\n",
    "print(\"2 - 1:\",conjunto2)"
   ]
  },
  {
   "cell_type": "code",
   "execution_count": 49,
   "id": "2e7f62d5",
   "metadata": {},
   "outputs": [
    {
     "name": "stdout",
     "output_type": "stream",
     "text": [
      "Operador ^= Diferencia simétrica\n",
      "{'🥤', '🍔', '🍟'} {'🍨', '🍕', '🥤'}\n",
      "{'🍨', '🍟', '🍕', '🍔'}\n"
     ]
    }
   ],
   "source": [
    "print (\"Operador ^= Diferencia simétrica\")\n",
    "conjunto1 = {'🍔','🍟', '🥤'}\n",
    "conjunto2 = {'🍕','🍨','🥤'}\n",
    "print (conjunto1, conjunto2)\n",
    "conjunto1 ^= conjunto2\n",
    "print(conjunto1)"
   ]
  },
  {
   "cell_type": "markdown",
   "id": "3d92093e",
   "metadata": {},
   "source": [
    "## Conjuntos Inmutables"
   ]
  },
  {
   "cell_type": "code",
   "execution_count": 50,
   "id": "627527b3",
   "metadata": {},
   "outputs": [
    {
     "name": "stdout",
     "output_type": "stream",
     "text": [
      "frozenset({'🥗', '🍕', '🍔', '🌭', '🍟'})\n",
      "<class 'frozenset'>\n"
     ]
    }
   ],
   "source": [
    "conjunto = frozenset({'🍔','🍕','🥗','🍟','🌭'})\n",
    "print(conjunto)\n",
    "print(type(conjunto))"
   ]
  },
  {
   "cell_type": "code",
   "execution_count": 51,
   "id": "5df16edf",
   "metadata": {},
   "outputs": [
    {
     "ename": "SyntaxError",
     "evalue": "invalid syntax (3116406244.py, line 5)",
     "output_type": "error",
     "traceback": [
      "  \u001b[36mCell\u001b[39m\u001b[36m \u001b[39m\u001b[32mIn[51]\u001b[39m\u001b[32m, line 5\u001b[39m\n\u001b[31m    \u001b[39m\u001b[31mprint(conjunto |= {6}) # SyntaxError: invalid syntax\u001b[39m\n                   ^\n\u001b[31mSyntaxError\u001b[39m\u001b[31m:\u001b[39m invalid syntax\n"
     ]
    }
   ],
   "source": [
    "conjunto = frozenset({1, 2, 3, 4, 5})\n",
    "print(conjunto)\n",
    "print(conjunto.add(6)) # AttributeError: 'frozenset' object has no attribute 'add'\n",
    "print(conjunto.remove(1)) # AttributeError: 'frozenset' object has no attribute 'remove'\n",
    "print(conjunto |= {6}) # SyntaxError: invalid syntax"
   ]
  },
  {
   "cell_type": "markdown",
   "id": "48be83e3",
   "metadata": {},
   "source": [
    "## Conjuntos Anidados"
   ]
  },
  {
   "cell_type": "code",
   "execution_count": 52,
   "id": "cd989b26",
   "metadata": {},
   "outputs": [
    {
     "name": "stdout",
     "output_type": "stream",
     "text": [
      "Conjunto de conjuntos\n",
      "{frozenset({'🍓', '🍅', '🍎'}), frozenset({'🍐', '🍏', '🍈'})}\n",
      "<class 'set'>\n"
     ]
    }
   ],
   "source": [
    "print (\"Conjunto de conjuntos\")\n",
    "conjunto = {frozenset({'🍅','🍓','🍎'}), frozenset({'🍈','🍐','🍏'})}\n",
    "print(conjunto)\n",
    "print(type(conjunto))"
   ]
  },
  {
   "cell_type": "code",
   "execution_count": 53,
   "id": "8bf24a58",
   "metadata": {},
   "outputs": [
    {
     "name": "stdout",
     "output_type": "stream",
     "text": [
      "Conjunto de conjuntos\n"
     ]
    },
    {
     "ename": "TypeError",
     "evalue": "unhashable type: 'set'",
     "output_type": "error",
     "traceback": [
      "\u001b[31m---------------------------------------------------------------------------\u001b[39m",
      "\u001b[31mTypeError\u001b[39m                                 Traceback (most recent call last)",
      "\u001b[36mCell\u001b[39m\u001b[36m \u001b[39m\u001b[32mIn[53]\u001b[39m\u001b[32m, line 2\u001b[39m\n\u001b[32m      1\u001b[39m \u001b[38;5;28mprint\u001b[39m (\u001b[33m\"\u001b[39m\u001b[33mConjunto de conjuntos\u001b[39m\u001b[33m\"\u001b[39m)\n\u001b[32m----> \u001b[39m\u001b[32m2\u001b[39m conjunto = {{\u001b[33m'\u001b[39m\u001b[33m🍅\u001b[39m\u001b[33m'\u001b[39m,\u001b[33m'\u001b[39m\u001b[33m🍓\u001b[39m\u001b[33m'\u001b[39m,\u001b[33m'\u001b[39m\u001b[33m🍎\u001b[39m\u001b[33m'\u001b[39m}, {\u001b[33m'\u001b[39m\u001b[33m🍈\u001b[39m\u001b[33m'\u001b[39m,\u001b[33m'\u001b[39m\u001b[33m🍐\u001b[39m\u001b[33m'\u001b[39m,\u001b[33m'\u001b[39m\u001b[33m🍏\u001b[39m\u001b[33m'\u001b[39m}} \u001b[38;5;66;03m#TypeError: unhashable type: 'set'\u001b[39;00m\n\u001b[32m      3\u001b[39m \u001b[38;5;28mprint\u001b[39m(conjunto)\n\u001b[32m      4\u001b[39m \u001b[38;5;28mprint\u001b[39m(\u001b[38;5;28mtype\u001b[39m(conjunto))\n",
      "\u001b[31mTypeError\u001b[39m: unhashable type: 'set'"
     ]
    }
   ],
   "source": [
    "print (\"Conjunto de conjuntos\")\n",
    "conjunto = {{'🍅','🍓','🍎'}, {'🍈','🍐','🍏'}} #TypeError: unhashable type: 'set'\n",
    "print(conjunto)\n",
    "print(type(conjunto))"
   ]
  }
 ],
 "metadata": {
  "kernelspec": {
   "display_name": "Python 3",
   "language": "python",
   "name": "python3"
  },
  "language_info": {
   "codemirror_mode": {
    "name": "ipython",
    "version": 3
   },
   "file_extension": ".py",
   "mimetype": "text/x-python",
   "name": "python",
   "nbconvert_exporter": "python",
   "pygments_lexer": "ipython3",
   "version": "3.13.3"
  }
 },
 "nbformat": 4,
 "nbformat_minor": 5
}
