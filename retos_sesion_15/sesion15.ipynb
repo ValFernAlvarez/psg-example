{
 "cells": [
  {
   "cell_type": "markdown",
   "id": "9f08043c",
   "metadata": {},
   "source": [
    "# ERRORES Y EXCEPCIONES: TRY-EXCEPT"
   ]
  },
  {
   "cell_type": "code",
   "execution_count": 1,
   "id": "61f11484",
   "metadata": {},
   "outputs": [
    {
     "name": "stdout",
     "output_type": "stream",
     "text": [
      "Inicio Ejemplo 1\n"
     ]
    },
    {
     "ename": "ZeroDivisionError",
     "evalue": "division by zero",
     "output_type": "error",
     "traceback": [
      "\u001b[31m---------------------------------------------------------------------------\u001b[39m",
      "\u001b[31mZeroDivisionError\u001b[39m                         Traceback (most recent call last)",
      "\u001b[36mCell\u001b[39m\u001b[36m \u001b[39m\u001b[32mIn[1]\u001b[39m\u001b[32m, line 2\u001b[39m\n\u001b[32m      1\u001b[39m \u001b[38;5;28mprint\u001b[39m (\u001b[33m\"\u001b[39m\u001b[33mInicio Ejemplo 1\u001b[39m\u001b[33m\"\u001b[39m)\n\u001b[32m----> \u001b[39m\u001b[32m2\u001b[39m x = \u001b[32;43m1\u001b[39;49m\u001b[43m \u001b[49m\u001b[43m/\u001b[49m\u001b[43m \u001b[49m\u001b[32;43m0\u001b[39;49m\n\u001b[32m      3\u001b[39m \u001b[38;5;28mprint\u001b[39m (x)\n\u001b[32m      4\u001b[39m \u001b[38;5;28mprint\u001b[39m (\u001b[33m\"\u001b[39m\u001b[33mFin Ejemplo 1\u001b[39m\u001b[33m\"\u001b[39m)\n",
      "\u001b[31mZeroDivisionError\u001b[39m: division by zero"
     ]
    }
   ],
   "source": [
    "print (\"Inicio Ejemplo 1\")\n",
    "x = 1 / 0\n",
    "print (x)\n",
    "print (\"Fin Ejemplo 1\")"
   ]
  },
  {
   "cell_type": "code",
   "execution_count": 2,
   "id": "a3d498eb",
   "metadata": {},
   "outputs": [
    {
     "name": "stdout",
     "output_type": "stream",
     "text": [
      "Inicio Ejemplo 1\n",
      "💀 Error: division by zero <class 'ZeroDivisionError'>\n",
      "Fin Ejemplo 1\n"
     ]
    }
   ],
   "source": [
    "print (\"Inicio Ejemplo 1\")\n",
    "try:\n",
    "    x = 1 / 0\n",
    "    print (x)\n",
    "except Exception as e:\n",
    "    print(\"💀 Error:\", e, type(e))\n",
    "print (\"Fin Ejemplo 1\")"
   ]
  },
  {
   "cell_type": "code",
   "execution_count": 3,
   "id": "11c04c99",
   "metadata": {},
   "outputs": [
    {
     "name": "stdout",
     "output_type": "stream",
     "text": [
      "💀 Error: float division by zero\n"
     ]
    }
   ],
   "source": [
    "while True:\n",
    "    try:\n",
    "        num1 = input(\"Ingrese el primer número: \")\n",
    "        if num1 == \"salir\":\n",
    "            break\n",
    "        num2 = input(\"Ingrese el segundo número: \")\n",
    "        if num2 == \"salir\":\n",
    "            break\n",
    "        num1 = float(num1)\n",
    "        num2 = float(num2)\n",
    "        print(\"Resultado:\", num1 / num2)\n",
    "    except Exception as e:\n",
    "        print(\"💀 Error:\", e)"
   ]
  },
  {
   "cell_type": "markdown",
   "id": "761959f4",
   "metadata": {},
   "source": [
    "## Excepciones Múltiples"
   ]
  },
  {
   "cell_type": "code",
   "execution_count": 4,
   "id": "abd77131",
   "metadata": {},
   "outputs": [
    {
     "name": "stdout",
     "output_type": "stream",
     "text": [
      "Inicio Ejemplo 2\n",
      "0️⃣ Error: division by zero <class 'ZeroDivisionError'>\n",
      "Fin Ejemplo 2\n"
     ]
    }
   ],
   "source": [
    "print (\"Inicio Ejemplo 2\")\n",
    "divisor = 0\n",
    "try:\n",
    "    x = 1 / divisor\n",
    "    print (x)\n",
    "except ZeroDivisionError as e:\n",
    "    print(\"0️⃣ Error:\", e, type(e))\n",
    "except Exception as e:\n",
    "    print(\"💀 Error:\", e, type(e))\n",
    "print (\"Fin Ejemplo 2\")"
   ]
  },
  {
   "cell_type": "code",
   "execution_count": 5,
   "id": "16bc42fe",
   "metadata": {},
   "outputs": [
    {
     "name": "stdout",
     "output_type": "stream",
     "text": [
      "Inicio Ejemplo 2\n",
      "💀 Error: unsupported operand type(s) for /: 'int' and 'str' <class 'TypeError'>\n",
      "Fin Ejemplo 2\n"
     ]
    }
   ],
   "source": [
    "print (\"Inicio Ejemplo 2\")\n",
    "divisor = \"0\"\n",
    "try:\n",
    "    x = 1 / divisor\n",
    "    print (x)\n",
    "except ZeroDivisionError as e:\n",
    "    print(\"0️⃣ Error:\", e, type(e))\n",
    "except Exception as e:\n",
    "    print(\"💀 Error:\", e, type(e))\n",
    "print (\"Fin Ejemplo 2\")"
   ]
  },
  {
   "cell_type": "markdown",
   "id": "43593220",
   "metadata": {},
   "source": [
    "## Jerarquía de Excepciones"
   ]
  },
  {
   "cell_type": "code",
   "execution_count": 6,
   "id": "a31c6861",
   "metadata": {},
   "outputs": [
    {
     "name": "stdout",
     "output_type": "stream",
     "text": [
      "Inicio Ejemplo 2\n",
      "💀 Error: division by zero <class 'ZeroDivisionError'>\n",
      "Fin Ejemplo 2\n"
     ]
    }
   ],
   "source": [
    "print (\"Inicio Ejemplo 2\")\n",
    "divisor = 0\n",
    "try:\n",
    "    x = 1 / divisor\n",
    "    print (x)\n",
    "except Exception as e: # Captura cualquier excepción\n",
    "    print(\"💀 Error:\", e, type(e))\n",
    "except ZeroDivisionError as e:\n",
    "    print(\"0️⃣ Error:\", e, type(e))\n",
    "print (\"Fin Ejemplo 2\")"
   ]
  },
  {
   "cell_type": "code",
   "execution_count": 7,
   "id": "4d4d4159",
   "metadata": {},
   "outputs": [
    {
     "name": "stdout",
     "output_type": "stream",
     "text": [
      "🎭 Error: unsupported operand type(s) for +=: 'int' and 'str' <class 'TypeError'>\n"
     ]
    }
   ],
   "source": [
    "calificaciones = [20,40,80,\"A\"]\n",
    "suma = 0\n",
    "try:\n",
    "    for i in range(len(calificaciones)+1):\n",
    "        suma += calificaciones[i] \n",
    "    promedio = suma / len(calificaciones)\n",
    "    print(\"Promedio:\", promedio)\n",
    "except ZeroDivisionError as e:\n",
    "    print(\"0️⃣ Error:\", e, type(e))\n",
    "except TypeError as e:\n",
    "    print(\"🎭 Error:\", e, type(e))\n",
    "except Exception as e:\n",
    "    print(\"💀 Error:\", e, type(e))"
   ]
  },
  {
   "cell_type": "code",
   "execution_count": 8,
   "id": "84b1eefb",
   "metadata": {},
   "outputs": [
    {
     "name": "stdout",
     "output_type": "stream",
     "text": [
      "💀 Error: list index out of range <class 'IndexError'>\n"
     ]
    }
   ],
   "source": [
    "calificaciones = [20,40,80]\n",
    "suma = 0\n",
    "try:\n",
    "    for i in range(len(calificaciones)+1):\n",
    "        suma += calificaciones[i]\n",
    "    promedio = suma / len(calificaciones)\n",
    "    print(\"Promedio:\", promedio)\n",
    "except ZeroDivisionError as e:\n",
    "    print(\"0️⃣ Error:\", e, type(e))\n",
    "except TypeError as e:\n",
    "    print(\"🎭 Error:\", e, type(e))\n",
    "except Exception as e: # Captura cualquier excepción\n",
    "    print(\"💀 Error:\", e, type(e))"
   ]
  },
  {
   "cell_type": "code",
   "execution_count": 9,
   "id": "736138ae",
   "metadata": {},
   "outputs": [
    {
     "name": "stdout",
     "output_type": "stream",
     "text": [
      "Promedio: 46.666666666666664\n"
     ]
    }
   ],
   "source": [
    "calificaciones = [20,40,80]\n",
    "suma = 0\n",
    "try:\n",
    "    for i in range(len(calificaciones)):\n",
    "        suma += calificaciones[i] # suma = suma + calificaciones[i]\n",
    "    promedio = suma / len(calificaciones)\n",
    "    print(\"Promedio:\", promedio)\n",
    "except ZeroDivisionError as e:\n",
    "    print(\"0️⃣ Error:\", e, type(e))\n",
    "except TypeError as e:\n",
    "    print(\"🎭 Error:\", e, type(e))\n",
    "except Exception as e:\n",
    "    print(\"💀 Error:\", e, type(e))"
   ]
  },
  {
   "cell_type": "markdown",
   "id": "71c178d3",
   "metadata": {},
   "source": [
    "## Bloque: 'else'"
   ]
  },
  {
   "cell_type": "code",
   "execution_count": 10,
   "id": "2792dce0",
   "metadata": {},
   "outputs": [
    {
     "name": "stdout",
     "output_type": "stream",
     "text": [
      "Inicio Ejemplo 4\n",
      "Promedio: 46.666666666666664\n",
      "🎉 Sin errores\n",
      "Fin Ejemplo 4\n"
     ]
    }
   ],
   "source": [
    "print (\"Inicio Ejemplo 4\")\n",
    "calificaciones = [20,40,80]\n",
    "suma = 0\n",
    "try:\n",
    "    for i in range(len(calificaciones)):\n",
    "        suma += calificaciones[i]\n",
    "    promedio = suma / len(calificaciones)\n",
    "    print(\"Promedio:\", promedio)\n",
    "except Exception as e:\n",
    "    print(\"💀 Error:\", e, type(e))\n",
    "else:\n",
    "    print (\"🎉 Sin errores\")\n",
    "print (\"Fin Ejemplo 4\")"
   ]
  },
  {
   "cell_type": "code",
   "execution_count": null,
   "id": "23da435a",
   "metadata": {},
   "outputs": [],
   "source": [
    "def division(num1, num2):\n",
    "    return num1 / num2\n",
    "\n",
    "while True:\n",
    "    try:\n",
    "        num1 = input(\"Ingrese el primer número: \")\n",
    "        if num1 == \"salir\":\n",
    "            break\n",
    "        num2 = input(\"Ingrese el segundo número: \")\n",
    "        if num2 == \"salir\":\n",
    "            break\n",
    "        num1 = float(num1)\n",
    "        num2 = float(num2)\n",
    "        resultado = division(num1, num2))\n",
    "    except Exception as e:\n",
    "        print(\"💀 Error:\", e)\n",
    "    else:\n",
    "        print(\"🎉 Resultado: \",resultado)"
   ]
  },
  {
   "cell_type": "markdown",
   "id": "7bac32bf",
   "metadata": {},
   "source": [
    "## Bloque: 'finally'"
   ]
  },
  {
   "cell_type": "code",
   "execution_count": 11,
   "id": "72698cb2",
   "metadata": {},
   "outputs": [
    {
     "name": "stdout",
     "output_type": "stream",
     "text": [
      "Inicio Ejemplo 5\n",
      "🔗 Ping...\n",
      "🎉 Ping Exitoso\n",
      "🔌 Cerrando conexión\n"
     ]
    }
   ],
   "source": [
    "print (\"Inicio Ejemplo 5\")\n",
    "try:\n",
    "    print(\"🔗 Ping...\")\n",
    "except Exception as e:\n",
    "    print(\"💀 Error:\", e)\n",
    "else:\n",
    "    print(\"🎉 Ping Exitoso\")\n",
    "finally:\n",
    "    print(\"🔌 Cerrando conexión\")"
   ]
  },
  {
   "cell_type": "markdown",
   "id": "0c3f8737",
   "metadata": {},
   "source": [
    "## Raise"
   ]
  },
  {
   "cell_type": "code",
   "execution_count": 12,
   "id": "6d30a993",
   "metadata": {},
   "outputs": [
    {
     "name": "stdout",
     "output_type": "stream",
     "text": [
      "Inicio Ejemplo 6\n",
      "🔗 Ping...\n",
      "💀 Error: Error de conexión\n",
      "🔌 Cerrando conexión\n"
     ]
    }
   ],
   "source": [
    "print (\"Inicio Ejemplo 6\")\n",
    "try:\n",
    "    print(\"🔗 Ping...\")\n",
    "    raise Exception(\"Error de conexión\") #Excepción genérica\n",
    "except Exception as e: # Captura cualquier excepción\n",
    "    print(\"💀 Error:\", e)\n",
    "else:\n",
    "    print(\"🎉 Ping Exitoso\")\n",
    "finally:\n",
    "    print(\"🔌 Cerrando conexión\")"
   ]
  },
  {
   "cell_type": "code",
   "execution_count": 13,
   "id": "90289dd0",
   "metadata": {},
   "outputs": [
    {
     "name": "stdout",
     "output_type": "stream",
     "text": [
      "🎉 Número agregado\n",
      "Suma: 1.0\n",
      "🎉 Número agregado\n",
      "Suma: 2.0\n",
      "🎉 Número agregado\n",
      "Suma: 4.0\n",
      "💀 Error: No se puede agregar el número 0\n",
      "Suma: 4.0\n",
      "Suma: 4.0\n"
     ]
    }
   ],
   "source": [
    "numeros = []\n",
    "while True:\n",
    "    try:\n",
    "        num = input(\"Ingrese un número: \")\n",
    "        if num == \"salir\":\n",
    "            break\n",
    "        num = float(num)\n",
    "        if num == 0:\n",
    "            raise Exception(\"No se puede agregar el número 0\")\n",
    "        numeros.append(num)\n",
    "    except KeyboardInterrupt as e:\n",
    "        print('🚫 Para salir escriba \"salir\"')\n",
    "    except Exception as e:\n",
    "        print(\"💀 Error:\", e)\n",
    "    else:\n",
    "        print(\"🎉 Número agregado\")\n",
    "    finally:\n",
    "        print(\"Suma:\", sum(numeros))"
   ]
  },
  {
   "cell_type": "markdown",
   "id": "2cca671f",
   "metadata": {},
   "source": [
    "## Pass"
   ]
  },
  {
   "cell_type": "code",
   "execution_count": 14,
   "id": "92f5f706",
   "metadata": {},
   "outputs": [
    {
     "name": "stdout",
     "output_type": "stream",
     "text": [
      "Inicio Ejemplo 7\n",
      "Fin Ejemplo 7\n"
     ]
    }
   ],
   "source": [
    "print(\"Inicio Ejemplo 7\")\n",
    "def funcion():\n",
    "    pass\n",
    "\n",
    "funcion()\n",
    "print(\"Fin Ejemplo 7\")"
   ]
  },
  {
   "cell_type": "markdown",
   "id": "41f65c87",
   "metadata": {},
   "source": [
    "## Excepciones Personalizadas"
   ]
  },
  {
   "cell_type": "code",
   "execution_count": 16,
   "id": "7ff417b6",
   "metadata": {},
   "outputs": [
    {
     "name": "stdout",
     "output_type": "stream",
     "text": [
      "Inicio Ejemplo 8\n",
      "🍎\n",
      "🍌\n",
      "🍐\n",
      "🐛 Error: 😱 Ewww!\n",
      "🍇\n",
      "Fin Ejemplo 8\n"
     ]
    }
   ],
   "source": [
    "print(\"Inicio Ejemplo 8\")\n",
    "class GusanoError(Exception):\n",
    "    pass\n",
    "\n",
    "frutero = ['🍎', '🍌', '🍐', '🐛', '🍇']\n",
    "for fruta in frutero:\n",
    "    try:\n",
    "        if fruta == '🐛':\n",
    "            raise GusanoError(\"😱 Ewww!\")\n",
    "        print(fruta)\n",
    "    except GusanoError as e:\n",
    "        print(\"🐛 Error:\", e)\n",
    "    except Exception as e:\n",
    "        print(\"💀 Error:\", e)\n",
    "print(\"Fin Ejemplo 8\")"
   ]
  },
  {
   "cell_type": "code",
   "execution_count": 17,
   "id": "f1adebd0",
   "metadata": {},
   "outputs": [
    {
     "name": "stdout",
     "output_type": "stream",
     "text": [
      "🎉 Palabra agregada\n",
      "Lista: ['hola']\n",
      "🚫 Error: Solo se permiten letras\n",
      "Lista: ['hola']\n",
      "Lista: ['hola']\n"
     ]
    }
   ],
   "source": [
    "class NoAlfabeticoError(Exception):\n",
    "    pass\n",
    "\n",
    "palabras = []\n",
    "while True:\n",
    "    try:\n",
    "        palabra = input(\"Ingrese una palabra: \")\n",
    "        if palabra == \"salir\":\n",
    "            break\n",
    "        if not palabra.isalpha():\n",
    "            raise NoAlfabeticoError(\"Solo se permiten letras\")\n",
    "        palabras.append(palabra)\n",
    "    except NoAlfabeticoError as e:\n",
    "        print(\"🚫 Error:\", e)\n",
    "    except Exception as e:\n",
    "        print(\"💀 Error:\", e)\n",
    "    else:\n",
    "        print(\"🎉 Palabra agregada\")\n",
    "    finally:\n",
    "        print(\"Lista:\", palabras)"
   ]
  }
 ],
 "metadata": {
  "kernelspec": {
   "display_name": "Python 3",
   "language": "python",
   "name": "python3"
  },
  "language_info": {
   "codemirror_mode": {
    "name": "ipython",
    "version": 3
   },
   "file_extension": ".py",
   "mimetype": "text/x-python",
   "name": "python",
   "nbconvert_exporter": "python",
   "pygments_lexer": "ipython3",
   "version": "3.13.3"
  }
 },
 "nbformat": 4,
 "nbformat_minor": 5
}
