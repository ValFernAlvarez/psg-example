{
 "cells": [
  {
   "cell_type": "markdown",
   "id": "aca3d777",
   "metadata": {},
   "source": [
    "# SESIÓN 05: TIPOS DE DATOS"
   ]
  },
  {
   "cell_type": "markdown",
   "id": "3011857b",
   "metadata": {},
   "source": [
    "## Types y Variables"
   ]
  },
  {
   "cell_type": "code",
   "execution_count": 1,
   "id": "176f412c",
   "metadata": {},
   "outputs": [
    {
     "name": "stdout",
     "output_type": "stream",
     "text": [
      "<class 'int'>\n"
     ]
    }
   ],
   "source": [
    "print(type(1))"
   ]
  },
  {
   "cell_type": "code",
   "execution_count": 2,
   "id": "af9a109f",
   "metadata": {},
   "outputs": [
    {
     "ename": "SyntaxError",
     "evalue": "invalid decimal literal (2590021010.py, line 1)",
     "output_type": "error",
     "traceback": [
      "  \u001b[36mCell\u001b[39m\u001b[36m \u001b[39m\u001b[32mIn[2]\u001b[39m\u001b[32m, line 1\u001b[39m\n\u001b[31m    \u001b[39m\u001b[31m1variable=1\u001b[39m\n    ^\n\u001b[31mSyntaxError\u001b[39m\u001b[31m:\u001b[39m invalid decimal literal\n"
     ]
    }
   ],
   "source": [
    "1variable=1\n",
    "mas@=1\n",
    "class=1"
   ]
  },
  {
   "cell_type": "markdown",
   "id": "921863d2",
   "metadata": {},
   "source": [
    "## Integers"
   ]
  },
  {
   "cell_type": "code",
   "execution_count": 3,
   "id": "20080a78",
   "metadata": {},
   "outputs": [
    {
     "name": "stdout",
     "output_type": "stream",
     "text": [
      "10\n",
      "<class 'int'>\n"
     ]
    }
   ],
   "source": [
    "print(10)\n",
    "print(type(10))"
   ]
  },
  {
   "cell_type": "code",
   "execution_count": 4,
   "id": "141a1314",
   "metadata": {},
   "outputs": [
    {
     "name": "stdout",
     "output_type": "stream",
     "text": [
      "100\n",
      "<class 'int'>\n"
     ]
    }
   ],
   "source": [
    "variable=100\n",
    "print(variable)\n",
    "print(type (variable))"
   ]
  },
  {
   "cell_type": "code",
   "execution_count": 5,
   "id": "c353f046",
   "metadata": {},
   "outputs": [
    {
     "name": "stdout",
     "output_type": "stream",
     "text": [
      "20\n",
      "<class 'int'>\n"
     ]
    }
   ],
   "source": [
    "variable_2=int(20)\n",
    "print(variable_2)\n",
    "print(type (variable_2))"
   ]
  },
  {
   "cell_type": "code",
   "execution_count": 6,
   "id": "28566a2e",
   "metadata": {},
   "outputs": [
    {
     "name": "stdout",
     "output_type": "stream",
     "text": [
      "Base decimal\n",
      "10\n",
      "Base binaria\n",
      "10\n",
      "Base octal\n",
      "10\n",
      "Base hexadecimal\n",
      "10\n"
     ]
    }
   ],
   "source": [
    "print(\"Base decimal\")\n",
    "print(10)\n",
    "print(\"Base binaria\")\n",
    "print(0b1010)\n",
    "print(\"Base octal\")\n",
    "print(0o12)\n",
    "print(\"Base hexadecimal\")\n",
    "print(0xa)"
   ]
  },
  {
   "cell_type": "code",
   "execution_count": 7,
   "id": "584ded0f",
   "metadata": {},
   "outputs": [
    {
     "name": "stdout",
     "output_type": "stream",
     "text": [
      "123456789012345678901234567890123456789012345678901234567890\n",
      "<class 'int'>\n"
     ]
    }
   ],
   "source": [
    "variable_3=123456789012345678901234567890123456789012345678901234567890\n",
    "print(variable_3)\n",
    "print(type(variable_3))"
   ]
  },
  {
   "cell_type": "markdown",
   "id": "8ec1e33b",
   "metadata": {},
   "source": [
    "## Floating"
   ]
  },
  {
   "cell_type": "code",
   "execution_count": 8,
   "id": "bd632ccd",
   "metadata": {},
   "outputs": [
    {
     "name": "stdout",
     "output_type": "stream",
     "text": [
      "0.5\n",
      "<class 'float'>\n"
     ]
    }
   ],
   "source": [
    "print(0.5)\n",
    "print(type(0.5))"
   ]
  },
  {
   "cell_type": "code",
   "execution_count": 9,
   "id": "f322769f",
   "metadata": {},
   "outputs": [
    {
     "name": "stdout",
     "output_type": "stream",
     "text": [
      "0.100546\n",
      "<class 'float'>\n"
     ]
    }
   ],
   "source": [
    "variable_4=0.100546\n",
    "print(variable_4)\n",
    "print(type(variable_4))"
   ]
  },
  {
   "cell_type": "code",
   "execution_count": 10,
   "id": "e4f87932",
   "metadata": {},
   "outputs": [
    {
     "name": "stdout",
     "output_type": "stream",
     "text": [
      "1.0\n",
      "<class 'float'>\n"
     ]
    }
   ],
   "source": [
    "variable_7 =float(1)\n",
    "print(variable_7)\n",
    "print (type(variable_7))"
   ]
  },
  {
   "cell_type": "code",
   "execution_count": 11,
   "id": "9a47d5e4",
   "metadata": {},
   "outputs": [
    {
     "name": "stdout",
     "output_type": "stream",
     "text": [
      "0.002\n",
      "<class 'float'>\n"
     ]
    }
   ],
   "source": [
    "variable_6=2.0e-3\n",
    "print(variable_6)\n",
    "print(type(variable_6))"
   ]
  },
  {
   "cell_type": "code",
   "execution_count": 12,
   "id": "b593a61f",
   "metadata": {},
   "outputs": [
    {
     "name": "stdout",
     "output_type": "stream",
     "text": [
      "0.9999999999999999\n",
      "<class 'float'>\n"
     ]
    }
   ],
   "source": [
    "variable_5=0.9999999999999999\n",
    "print(variable_5)\n",
    "print(type(variable_5))"
   ]
  },
  {
   "cell_type": "markdown",
   "id": "cb876a2d",
   "metadata": {},
   "source": [
    "## Operadores Aritméticos"
   ]
  },
  {
   "cell_type": "code",
   "execution_count": 13,
   "id": "159eb5a7",
   "metadata": {},
   "outputs": [
    {
     "name": "stdout",
     "output_type": "stream",
     "text": [
      "Suma: 13\n",
      "Resta: 7\n",
      "Multiplicación: 30\n",
      "División: 3.3333333333333335\n",
      "Potencia: 1000\n",
      "Módulo o residuo: 1\n",
      "División entera: 3\n"
     ]
    }
   ],
   "source": [
    "a=10\n",
    "b=3\n",
    "print(f\"Suma: {a+b}\")\n",
    "print(f\"Resta: {a-b}\")\n",
    "print(f\"Multiplicación: {a*b}\")\n",
    "print(f\"División: {a/b}\")\n",
    "print(f\"Potencia: {a**b}\")\n",
    "print(f\"Módulo o residuo: {a%b}\")\n",
    "print(f\"División entera: {a//b}\")"
   ]
  },
  {
   "cell_type": "markdown",
   "id": "3a262eab",
   "metadata": {},
   "source": [
    "### Ejercicio en Clase\n",
    "Un contador tiene 300 minutos y se le suman 3600 segundos, ¿Cuántas horas en total son?"
   ]
  },
  {
   "cell_type": "code",
   "execution_count": 14,
   "id": "21271cfa",
   "metadata": {},
   "outputs": [
    {
     "name": "stdout",
     "output_type": "stream",
     "text": [
      "Total:  6.0\n"
     ]
    }
   ],
   "source": [
    "min=300\n",
    "seg=3600\n",
    "hr_mn=300/60\n",
    "hr_seg=(3600/60)/60\n",
    "print(\"Total: \",hr_mn+hr_seg)"
   ]
  },
  {
   "cell_type": "markdown",
   "id": "2d112171",
   "metadata": {},
   "source": [
    "## Operadores de Comparación"
   ]
  },
  {
   "cell_type": "code",
   "execution_count": 15,
   "id": "f0500b13",
   "metadata": {},
   "outputs": [
    {
     "name": "stdout",
     "output_type": "stream",
     "text": [
      "False\n",
      "False\n",
      "True\n",
      "True\n",
      "True\n",
      "False\n"
     ]
    }
   ],
   "source": [
    "comparar=10\n",
    "print(comparar<10)\n",
    "print(comparar>10)\n",
    "print(comparar==10)\n",
    "print(comparar<=10)\n",
    "print(comparar>=10)\n",
    "print(comparar!=10)"
   ]
  },
  {
   "cell_type": "code",
   "execution_count": 16,
   "id": "7b0cc612",
   "metadata": {},
   "outputs": [
    {
     "name": "stdout",
     "output_type": "stream",
     "text": [
      "False\n",
      "False\n",
      "True\n",
      "True\n",
      "True\n",
      "False\n"
     ]
    }
   ],
   "source": [
    "comparar=10\n",
    "flotante=10.0\n",
    "print(comparar<flotante)\n",
    "print(comparar>flotante)\n",
    "print(comparar==flotante)\n",
    "print(comparar<=flotante)\n",
    "print(comparar>=flotante)\n",
    "print(comparar!=flotante)"
   ]
  }
 ],
 "metadata": {
  "kernelspec": {
   "display_name": "Python 3",
   "language": "python",
   "name": "python3"
  },
  "language_info": {
   "codemirror_mode": {
    "name": "ipython",
    "version": 3
   },
   "file_extension": ".py",
   "mimetype": "text/x-python",
   "name": "python",
   "nbconvert_exporter": "python",
   "pygments_lexer": "ipython3",
   "version": "3.13.3"
  }
 },
 "nbformat": 4,
 "nbformat_minor": 5
}
