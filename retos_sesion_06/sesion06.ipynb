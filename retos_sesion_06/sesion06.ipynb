{
 "cells": [
  {
   "cell_type": "markdown",
   "id": "6104f60a",
   "metadata": {},
   "source": [
    "# DATOS BOOLEANOS\n",
    "## Tipos de datos Booleanos"
   ]
  },
  {
   "cell_type": "code",
   "execution_count": 1,
   "id": "0708a271",
   "metadata": {},
   "outputs": [
    {
     "name": "stdout",
     "output_type": "stream",
     "text": [
      "True\n",
      "False\n"
     ]
    }
   ],
   "source": [
    "print(True)\n",
    "print(False)"
   ]
  },
  {
   "cell_type": "markdown",
   "id": "0f4d5f45",
   "metadata": {},
   "source": [
    "## Operaciones con Booleanos"
   ]
  },
  {
   "cell_type": "code",
   "execution_count": 2,
   "id": "a4f4fd09",
   "metadata": {},
   "outputs": [
    {
     "name": "stdout",
     "output_type": "stream",
     "text": [
      "2\n",
      "1\n",
      "0\n",
      "0\n",
      "0\n"
     ]
    }
   ],
   "source": [
    "print(True+True)\n",
    "print(True*True)\n",
    "print(True*False)\n",
    "print(False+False)\n",
    "print(False*False)"
   ]
  },
  {
   "cell_type": "markdown",
   "id": "f1ca2e70",
   "metadata": {},
   "source": [
    "## Números y Booleanos"
   ]
  },
  {
   "cell_type": "code",
   "execution_count": 3,
   "id": "52643305",
   "metadata": {},
   "outputs": [
    {
     "name": "stdout",
     "output_type": "stream",
     "text": [
      "11\n",
      "10\n",
      "10\n",
      "0\n"
     ]
    }
   ],
   "source": [
    "print(10+True)\n",
    "print(10+False)\n",
    "print(10*True)\n",
    "print(10*False)"
   ]
  },
  {
   "cell_type": "markdown",
   "id": "29fdf565",
   "metadata": {},
   "source": [
    "## Declarar Booleanas"
   ]
  },
  {
   "cell_type": "code",
   "execution_count": 4,
   "id": "a11b9e40",
   "metadata": {},
   "outputs": [
    {
     "name": "stdout",
     "output_type": "stream",
     "text": [
      "True\n",
      "<class 'bool'>\n",
      "False\n",
      "<class 'bool'>\n"
     ]
    }
   ],
   "source": [
    "var_booleana=True\n",
    "print(var_booleana)\n",
    "print(type(var_booleana))\n",
    "var_booleana=False\n",
    "print(var_booleana)\n",
    "print(type(var_booleana))"
   ]
  },
  {
   "cell_type": "markdown",
   "id": "7b542387",
   "metadata": {},
   "source": [
    "## Función Booleana: bool()"
   ]
  },
  {
   "cell_type": "code",
   "execution_count": 5,
   "id": "731fb385",
   "metadata": {},
   "outputs": [
    {
     "name": "stdout",
     "output_type": "stream",
     "text": [
      "True\n",
      "<class 'bool'>\n",
      "False\n",
      "<class 'bool'>\n",
      "True\n",
      "<class 'bool'>\n"
     ]
    }
   ],
   "source": [
    "var_booleana=bool(1)\n",
    "print(var_booleana)\n",
    "print(type(var_booleana))\n",
    "var_booleana=bool(0)\n",
    "print(var_booleana)\n",
    "print(type(var_booleana))\n",
    "var_booleana=bool(15)\n",
    "print(var_booleana)\n",
    "print(type(var_booleana))"
   ]
  },
  {
   "cell_type": "markdown",
   "id": "51028b4d",
   "metadata": {},
   "source": [
    "## Comparación"
   ]
  },
  {
   "cell_type": "code",
   "execution_count": 6,
   "id": "1c91f3c4",
   "metadata": {},
   "outputs": [
    {
     "name": "stdout",
     "output_type": "stream",
     "text": [
      "True\n",
      "False\n",
      "False\n",
      "False\n",
      "True\n",
      "True\n",
      "True\n",
      "False\n"
     ]
    }
   ],
   "source": [
    "print(10==10)\n",
    "print(10!=10)\n",
    "print(10<10)\n",
    "print(10>10)\n",
    "print(10<=10)\n",
    "print(10>=10)\n",
    "a=10\n",
    "b=10\n",
    "print(a is b)\n",
    "print(a is not b)"
   ]
  },
  {
   "cell_type": "markdown",
   "id": "192a87b6",
   "metadata": {},
   "source": [
    "## Asignación"
   ]
  },
  {
   "cell_type": "code",
   "execution_count": 7,
   "id": "b837dcf1",
   "metadata": {},
   "outputs": [
    {
     "name": "stdout",
     "output_type": "stream",
     "text": [
      "True\n",
      "False\n"
     ]
    }
   ],
   "source": [
    "x=10\n",
    "mayor_que_cero=x>0\n",
    "print(mayor_que_cero)\n",
    "diferente_de_10=x!=10\n",
    "print(diferente_de_10)"
   ]
  },
  {
   "cell_type": "markdown",
   "id": "120985c8",
   "metadata": {},
   "source": [
    "## Operadores Lógicos\n",
    "- not: Negación lógica\n",
    "- and: Conjunción lógica\n",
    "- or: Disyunción lógica"
   ]
  },
  {
   "cell_type": "code",
   "execution_count": 8,
   "id": "57f026b3",
   "metadata": {},
   "outputs": [
    {
     "name": "stdout",
     "output_type": "stream",
     "text": [
      "True\n",
      "False\n",
      "True\n",
      "False\n",
      "False\n",
      "True\n"
     ]
    }
   ],
   "source": [
    "print(True and True)\n",
    "print(True and False)\n",
    "print(False or True)\n",
    "print(False or False)\n",
    "print(not True)\n",
    "print(not False)"
   ]
  },
  {
   "cell_type": "markdown",
   "id": "e79f00d5",
   "metadata": {},
   "source": [
    "## Operadores Lógicos y Prioridad\n",
    "1. Not\n",
    "2. And\n",
    "3. Or\n",
    "4. Se puede utilizar paréntesis para evaluar una operación antes que otras, como en los operadores aritméticos."
   ]
  },
  {
   "cell_type": "code",
   "execution_count": 9,
   "id": "1906db89",
   "metadata": {},
   "outputs": [
    {
     "name": "stdout",
     "output_type": "stream",
     "text": [
      "True\n",
      "False\n",
      "True\n",
      "True\n",
      "False\n",
      "False\n"
     ]
    }
   ],
   "source": [
    "print(False and False or True)\n",
    "print(False and (False or True))\n",
    "print(not True and False or True)\n",
    "print(not (True and False or False))\n",
    "print(not True and (False or False))\n",
    "print(not True and False or False)"
   ]
  },
  {
   "cell_type": "markdown",
   "id": "c9813ab5",
   "metadata": {},
   "source": [
    "## Tablas de Verdad\n",
    "### AND"
   ]
  },
  {
   "cell_type": "code",
   "execution_count": 10,
   "id": "e87c2bc2",
   "metadata": {},
   "outputs": [
    {
     "name": "stdout",
     "output_type": "stream",
     "text": [
      "True\n",
      "False\n",
      "False\n",
      "False\n"
     ]
    }
   ],
   "source": [
    "print(True and True)\n",
    "print(True and False)\n",
    "print(False and True)\n",
    "print(False and False)"
   ]
  },
  {
   "cell_type": "markdown",
   "id": "0fd10d19",
   "metadata": {},
   "source": [
    "### OR"
   ]
  },
  {
   "cell_type": "code",
   "execution_count": 11,
   "id": "f8ea9c1e",
   "metadata": {},
   "outputs": [
    {
     "name": "stdout",
     "output_type": "stream",
     "text": [
      "True\n",
      "True\n",
      "True\n",
      "False\n"
     ]
    }
   ],
   "source": [
    "print(True or True)\n",
    "print(True or False)\n",
    "print(False or True)\n",
    "print(False or False)"
   ]
  },
  {
   "cell_type": "markdown",
   "id": "48297972",
   "metadata": {},
   "source": [
    "### NOT"
   ]
  },
  {
   "cell_type": "code",
   "execution_count": 12,
   "id": "b5eb8b18",
   "metadata": {},
   "outputs": [
    {
     "name": "stdout",
     "output_type": "stream",
     "text": [
      "False\n",
      "True\n"
     ]
    }
   ],
   "source": [
    "print(not True)\n",
    "print(not False)"
   ]
  },
  {
   "cell_type": "markdown",
   "id": "4c89bbbd",
   "metadata": {},
   "source": [
    "### NAND"
   ]
  },
  {
   "cell_type": "code",
   "execution_count": 13,
   "id": "f73eb9af",
   "metadata": {},
   "outputs": [
    {
     "name": "stdout",
     "output_type": "stream",
     "text": [
      "False\n",
      "True\n",
      "True\n",
      "True\n"
     ]
    }
   ],
   "source": [
    "print(not(True and True))\n",
    "print(not(True and False))\n",
    "print(not(False and True))\n",
    "print(not(False and False))"
   ]
  },
  {
   "cell_type": "markdown",
   "id": "f2d0a172",
   "metadata": {},
   "source": [
    "### NOR"
   ]
  },
  {
   "cell_type": "code",
   "execution_count": 14,
   "id": "3a8b6b2f",
   "metadata": {},
   "outputs": [
    {
     "name": "stdout",
     "output_type": "stream",
     "text": [
      "False\n",
      "False\n",
      "False\n",
      "True\n"
     ]
    }
   ],
   "source": [
    "print(not(True or True))\n",
    "print(not(True or False))\n",
    "print(not(False or True))\n",
    "print(not(False or False))"
   ]
  },
  {
   "cell_type": "markdown",
   "id": "93b9e737",
   "metadata": {},
   "source": [
    "### XOR"
   ]
  },
  {
   "cell_type": "code",
   "execution_count": 15,
   "id": "4dfbb2fb",
   "metadata": {},
   "outputs": [
    {
     "name": "stdout",
     "output_type": "stream",
     "text": [
      "True\n",
      "False\n"
     ]
    }
   ],
   "source": [
    "a=True\n",
    "b=False\n",
    "print((a or b) and not (a and b))\n",
    "a=True\n",
    "b=True\n",
    "print((a or b) and not (a and b))"
   ]
  },
  {
   "cell_type": "markdown",
   "id": "2569478f",
   "metadata": {},
   "source": [
    "### EJEMPLO: SENSOR Y BATERÍA"
   ]
  },
  {
   "cell_type": "code",
   "execution_count": 16,
   "id": "14caab12",
   "metadata": {},
   "outputs": [
    {
     "name": "stdout",
     "output_type": "stream",
     "text": [
      "True and True = True\n",
      "True and False = False\n",
      "False and True = False\n",
      "False and False = False\n"
     ]
    }
   ],
   "source": [
    "sensor = True\n",
    "bateria = True\n",
    "print (sensor, \"and\", bateria, \"=\", sensor and bateria)\n",
    "sensor = True\n",
    "bateria = False\n",
    "print (sensor, \"and\", bateria, \"=\", sensor and bateria)\n",
    "sensor = False\n",
    "bateria = True\n",
    "print (sensor, \"and\", bateria, \"=\", sensor and bateria)\n",
    "sensor = False\n",
    "bateria = False\n",
    "print (sensor, \"and\", bateria, \"=\", sensor and bateria)"
   ]
  },
  {
   "cell_type": "markdown",
   "id": "bcc3e7c7",
   "metadata": {},
   "source": [
    "## EJERCICIOS\n",
    "### EJEMPLO 1:\n",
    "Determinar si el número 20 está en el rango 0 a 100."
   ]
  },
  {
   "cell_type": "code",
   "execution_count": 17,
   "id": "86d41913",
   "metadata": {},
   "outputs": [
    {
     "name": "stdout",
     "output_type": "stream",
     "text": [
      "True\n"
     ]
    }
   ],
   "source": [
    "numero=20\n",
    "comparacion=numero>=0 and numero<=100\n",
    "print(comparacion)"
   ]
  },
  {
   "cell_type": "markdown",
   "id": "8a1b6726",
   "metadata": {},
   "source": [
    "### EJEMPLO 2:\n",
    "Un estudiante obtuvo las siguientes notas en sus exámenes: 15, 20, 16 determinar si el estudiante aprobó con una nota superior a 50."
   ]
  },
  {
   "cell_type": "code",
   "execution_count": 18,
   "id": "0e96df0e",
   "metadata": {},
   "outputs": [
    {
     "name": "stdout",
     "output_type": "stream",
     "text": [
      "True\n"
     ]
    }
   ],
   "source": [
    "nota_a=15\n",
    "nota_b=20\n",
    "nota_c=16\n",
    "aprobacion=(nota_a+nota_b+nota_c)>50\n",
    "print(aprobacion)"
   ]
  },
  {
   "cell_type": "markdown",
   "id": "d6a5453f",
   "metadata": {},
   "source": [
    "### EJEMPLO 3:\n",
    "Determinar si el número 15 es divisible por 3 y 5, pero no por 2."
   ]
  },
  {
   "cell_type": "code",
   "execution_count": 19,
   "id": "314dc41b",
   "metadata": {},
   "outputs": [
    {
     "name": "stdout",
     "output_type": "stream",
     "text": [
      "True\n"
     ]
    }
   ],
   "source": [
    "numero=15\n",
    "divisible_3=numero%3==0\n",
    "divisible_5=numero%5==0\n",
    "no_divisible_2=numero%2!=0\n",
    "verificacion=divisible_3 and divisible_5 and no_divisible_2\n",
    "print(verificacion)"
   ]
  },
  {
   "cell_type": "markdown",
   "id": "41cfc74a",
   "metadata": {},
   "source": [
    "## Cortocircuitos\n",
    "### AND"
   ]
  },
  {
   "cell_type": "code",
   "execution_count": 20,
   "id": "0b16c7f9",
   "metadata": {},
   "outputs": [
    {
     "name": "stdout",
     "output_type": "stream",
     "text": [
      "False\n"
     ]
    },
    {
     "ename": "ZeroDivisionError",
     "evalue": "division by zero",
     "output_type": "error",
     "traceback": [
      "\u001b[31m---------------------------------------------------------------------------\u001b[39m",
      "\u001b[31mZeroDivisionError\u001b[39m                         Traceback (most recent call last)",
      "\u001b[36mCell\u001b[39m\u001b[36m \u001b[39m\u001b[32mIn[20]\u001b[39m\u001b[32m, line 4\u001b[39m\n\u001b[32m      2\u001b[39m y=\u001b[32m0\u001b[39m\n\u001b[32m      3\u001b[39m \u001b[38;5;28mprint\u001b[39m (x > \u001b[32m2\u001b[39m \u001b[38;5;129;01mand\u001b[39;00m (x/y) > \u001b[32m2\u001b[39m)\n\u001b[32m----> \u001b[39m\u001b[32m4\u001b[39m \u001b[38;5;28mprint\u001b[39m (x > \u001b[32m0\u001b[39m \u001b[38;5;129;01mand\u001b[39;00m (\u001b[43mx\u001b[49m\u001b[43m/\u001b[49m\u001b[43my\u001b[49m) > \u001b[32m0\u001b[39m)\n",
      "\u001b[31mZeroDivisionError\u001b[39m: division by zero"
     ]
    }
   ],
   "source": [
    "x=1\n",
    "y=0\n",
    "print (x > 2 and (x/y) > 2)\n",
    "print (x > 0 and (x/y) > 0)"
   ]
  },
  {
   "cell_type": "markdown",
   "id": "87fb1809",
   "metadata": {},
   "source": [
    "### OR"
   ]
  },
  {
   "cell_type": "code",
   "execution_count": 21,
   "id": "1f733e84",
   "metadata": {},
   "outputs": [
    {
     "name": "stdout",
     "output_type": "stream",
     "text": [
      "True\n"
     ]
    },
    {
     "ename": "ZeroDivisionError",
     "evalue": "division by zero",
     "output_type": "error",
     "traceback": [
      "\u001b[31m---------------------------------------------------------------------------\u001b[39m",
      "\u001b[31mZeroDivisionError\u001b[39m                         Traceback (most recent call last)",
      "\u001b[36mCell\u001b[39m\u001b[36m \u001b[39m\u001b[32mIn[21]\u001b[39m\u001b[32m, line 4\u001b[39m\n\u001b[32m      2\u001b[39m y=\u001b[32m0\u001b[39m\n\u001b[32m      3\u001b[39m \u001b[38;5;28mprint\u001b[39m (x > \u001b[32m0\u001b[39m \u001b[38;5;129;01mor\u001b[39;00m (x/y) > \u001b[32m0\u001b[39m)\n\u001b[32m----> \u001b[39m\u001b[32m4\u001b[39m \u001b[38;5;28mprint\u001b[39m (x > \u001b[32m2\u001b[39m \u001b[38;5;129;01mor\u001b[39;00m (\u001b[43mx\u001b[49m\u001b[43m/\u001b[49m\u001b[43my\u001b[49m) > \u001b[32m2\u001b[39m)\n",
      "\u001b[31mZeroDivisionError\u001b[39m: division by zero"
     ]
    }
   ],
   "source": [
    "x=1\n",
    "y=0\n",
    "print (x > 0 or (x/y) > 0)\n",
    "print (x > 2 or (x/y) > 2)"
   ]
  }
 ],
 "metadata": {
  "kernelspec": {
   "display_name": "Python 3",
   "language": "python",
   "name": "python3"
  },
  "language_info": {
   "codemirror_mode": {
    "name": "ipython",
    "version": 3
   },
   "file_extension": ".py",
   "mimetype": "text/x-python",
   "name": "python",
   "nbconvert_exporter": "python",
   "pygments_lexer": "ipython3",
   "version": "3.13.3"
  }
 },
 "nbformat": 4,
 "nbformat_minor": 5
}
