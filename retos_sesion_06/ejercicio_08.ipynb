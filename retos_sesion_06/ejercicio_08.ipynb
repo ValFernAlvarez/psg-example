{
 "cells": [
  {
   "cell_type": "markdown",
   "id": "6104f60a",
   "metadata": {},
   "source": [
    "# DATOS BOOLEANOS\n",
    "## Tipos de datos Booleanos"
   ]
  },
  {
   "cell_type": "code",
   "execution_count": null,
   "id": "0708a271",
   "metadata": {},
   "outputs": [],
   "source": [
    "print(True)\n",
    "print(False)"
   ]
  },
  {
   "cell_type": "markdown",
   "id": "0f4d5f45",
   "metadata": {},
   "source": [
    "## Operaciones con Booleanos"
   ]
  },
  {
   "cell_type": "code",
   "execution_count": null,
   "id": "a4f4fd09",
   "metadata": {},
   "outputs": [],
   "source": [
    "print(True+True)\n",
    "print(True*True)\n",
    "print(True*False)\n",
    "print(False+False)\n",
    "print(False*False)"
   ]
  },
  {
   "cell_type": "markdown",
   "id": "f1ca2e70",
   "metadata": {},
   "source": [
    "## Números y Booleanos"
   ]
  },
  {
   "cell_type": "code",
   "execution_count": null,
   "id": "52643305",
   "metadata": {},
   "outputs": [],
   "source": [
    "print(10+True)\n",
    "print(10+False)\n",
    "print(10*True)\n",
    "print(10*False)"
   ]
  },
  {
   "cell_type": "markdown",
   "id": "29fdf565",
   "metadata": {},
   "source": [
    "## Declarar Booleanas"
   ]
  },
  {
   "cell_type": "code",
   "execution_count": null,
   "id": "a11b9e40",
   "metadata": {},
   "outputs": [],
   "source": [
    "var_booleana=True\n",
    "print(var_booleana)\n",
    "print(type(var_booleana))\n",
    "var_booleana=False\n",
    "print(var_booleana)\n",
    "print(type(var_booleana))"
   ]
  },
  {
   "cell_type": "markdown",
   "id": "7b542387",
   "metadata": {},
   "source": [
    "## Función Booleana: bool()"
   ]
  },
  {
   "cell_type": "code",
   "execution_count": null,
   "id": "731fb385",
   "metadata": {},
   "outputs": [],
   "source": [
    "var_booleana=bool(1)\n",
    "print(var_booleana)\n",
    "print(type(var_booleana))\n",
    "var_booleana=bool(0)\n",
    "print(var_booleana)\n",
    "print(type(var_booleana))\n",
    "var_booleana=bool(15)\n",
    "print(var_booleana)\n",
    "print(type(var_booleana))"
   ]
  },
  {
   "cell_type": "markdown",
   "id": "51028b4d",
   "metadata": {},
   "source": [
    "## Comparación"
   ]
  },
  {
   "cell_type": "code",
   "execution_count": null,
   "id": "1c91f3c4",
   "metadata": {},
   "outputs": [],
   "source": [
    "print(10==10)\n",
    "print(10!=10)\n",
    "print(10<10)\n",
    "print(10>10)\n",
    "print(10<=10)\n",
    "print(10>=10)\n",
    "a=10\n",
    "b=10\n",
    "print(a is b)\n",
    "print(a is not b)"
   ]
  },
  {
   "cell_type": "markdown",
   "id": "192a87b6",
   "metadata": {},
   "source": [
    "## Asignación"
   ]
  },
  {
   "cell_type": "code",
   "execution_count": null,
   "id": "b837dcf1",
   "metadata": {},
   "outputs": [],
   "source": [
    "x=10\n",
    "mayor_que_cero=x>0\n",
    "print(mayor_que_cero)\n",
    "diferente_de_10=x!=10\n",
    "print(diferente_de_10)"
   ]
  },
  {
   "cell_type": "markdown",
   "id": "120985c8",
   "metadata": {},
   "source": [
    "## Operadores Lógicos\n",
    "- not: Negación lógica\n",
    "- and: Conjunción lógica\n",
    "- or: Disyunción lógica"
   ]
  },
  {
   "cell_type": "code",
   "execution_count": null,
   "id": "57f026b3",
   "metadata": {},
   "outputs": [],
   "source": [
    "print(True and True)\n",
    "print(True and False)\n",
    "print(False or True)\n",
    "print(False or False)\n",
    "print(not True)\n",
    "print(not False)"
   ]
  },
  {
   "cell_type": "markdown",
   "id": "e79f00d5",
   "metadata": {},
   "source": [
    "## Operadores Lógicos y Prioridad\n",
    "1. Not\n",
    "2. And\n",
    "3. Or\n",
    "4. Se puede utilizar paréntesis para evaluar una operación antes que otras, como en los operadores aritméticos."
   ]
  },
  {
   "cell_type": "code",
   "execution_count": null,
   "id": "1906db89",
   "metadata": {},
   "outputs": [],
   "source": [
    "print(False and False or True)\n",
    "print(False and (False or True))\n",
    "print(not True and False or True)\n",
    "print(not (True and False or False))\n",
    "print(not True and (False or False))\n",
    "print(not True and False or False)"
   ]
  },
  {
   "cell_type": "markdown",
   "id": "c9813ab5",
   "metadata": {},
   "source": [
    "## Tablas de Verdad\n",
    "### AND"
   ]
  },
  {
   "cell_type": "code",
   "execution_count": null,
   "id": "e87c2bc2",
   "metadata": {},
   "outputs": [],
   "source": [
    "print(True and True)\n",
    "print(True and False)\n",
    "print(False and True)\n",
    "print(False and False)"
   ]
  },
  {
   "cell_type": "markdown",
   "id": "0fd10d19",
   "metadata": {},
   "source": [
    "### OR"
   ]
  },
  {
   "cell_type": "code",
   "execution_count": null,
   "id": "f8ea9c1e",
   "metadata": {},
   "outputs": [],
   "source": [
    "print(True or True)\n",
    "print(True or False)\n",
    "print(False or True)\n",
    "print(False or False)"
   ]
  },
  {
   "cell_type": "markdown",
   "id": "48297972",
   "metadata": {},
   "source": [
    "### NOT"
   ]
  },
  {
   "cell_type": "code",
   "execution_count": null,
   "id": "b5eb8b18",
   "metadata": {},
   "outputs": [],
   "source": [
    "print(not True)\n",
    "print(not False)"
   ]
  },
  {
   "cell_type": "markdown",
   "id": "4c89bbbd",
   "metadata": {},
   "source": [
    "### NAND"
   ]
  },
  {
   "cell_type": "code",
   "execution_count": null,
   "id": "f73eb9af",
   "metadata": {},
   "outputs": [],
   "source": [
    "print(not(True and True))\n",
    "print(not(True and False))\n",
    "print(not(False and True))\n",
    "print(not(False and False))"
   ]
  },
  {
   "cell_type": "markdown",
   "id": "f2d0a172",
   "metadata": {},
   "source": [
    "### NOR"
   ]
  },
  {
   "cell_type": "code",
   "execution_count": null,
   "id": "3a8b6b2f",
   "metadata": {},
   "outputs": [],
   "source": [
    "print(not(True or True))\n",
    "print(not(True or False))\n",
    "print(not(False or True))\n",
    "print(not(False or False))"
   ]
  },
  {
   "cell_type": "markdown",
   "id": "93b9e737",
   "metadata": {},
   "source": [
    "### XOR"
   ]
  },
  {
   "cell_type": "code",
   "execution_count": null,
   "id": "4dfbb2fb",
   "metadata": {},
   "outputs": [],
   "source": [
    "a=True\n",
    "b=False\n",
    "print((a or b) and not (a and b))\n",
    "a=True\n",
    "b=True\n",
    "print((a or b) and not (a and b))"
   ]
  },
  {
   "cell_type": "markdown",
   "id": "2569478f",
   "metadata": {},
   "source": [
    "### EJEMPLO: SENSOR Y BATERÍA"
   ]
  },
  {
   "cell_type": "code",
   "execution_count": null,
   "id": "14caab12",
   "metadata": {},
   "outputs": [],
   "source": [
    "sensor = True\n",
    "bateria = True\n",
    "print (sensor, \"and\", bateria, \"=\", sensor and bateria)\n",
    "sensor = True\n",
    "bateria = False\n",
    "print (sensor, \"and\", bateria, \"=\", sensor and bateria)\n",
    "sensor = False\n",
    "bateria = True\n",
    "print (sensor, \"and\", bateria, \"=\", sensor and bateria)\n",
    "sensor = False\n",
    "bateria = False\n",
    "print (sensor, \"and\", bateria, \"=\", sensor and bateria)"
   ]
  },
  {
   "cell_type": "markdown",
   "id": "bcc3e7c7",
   "metadata": {},
   "source": [
    "## EJERCICIOS\n",
    "### EJEMPLO 1:\n",
    "Determinar si el número 20 está en el rango 0 a 100."
   ]
  },
  {
   "cell_type": "code",
   "execution_count": null,
   "id": "86d41913",
   "metadata": {},
   "outputs": [],
   "source": [
    "numero=20\n",
    "comparacion=numero>=0 and numero<=100\n",
    "print(comparacion)"
   ]
  },
  {
   "cell_type": "markdown",
   "id": "8a1b6726",
   "metadata": {},
   "source": [
    "### EJEMPLO 2:\n",
    "Un estudiante obtuvo las siguientes notas en sus exámenes: 15, 20, 16 determinar si el estudiante aprobó con una nota superior a 50."
   ]
  },
  {
   "cell_type": "code",
   "execution_count": null,
   "id": "0e96df0e",
   "metadata": {},
   "outputs": [],
   "source": [
    "nota_a=15\n",
    "nota_b=20\n",
    "nota_c=16\n",
    "aprobacion=(nota_a+nota_b+nota_c)>50\n",
    "print(aprobacion)"
   ]
  },
  {
   "cell_type": "markdown",
   "id": "d6a5453f",
   "metadata": {},
   "source": [
    "### EJEMPLO 3:\n",
    "Determinar si el número 15 es divisible por 3 y 5, pero no por 2."
   ]
  },
  {
   "cell_type": "code",
   "execution_count": null,
   "id": "314dc41b",
   "metadata": {},
   "outputs": [],
   "source": [
    "numero=15\n",
    "divisible_3=numero%3==0\n",
    "divisible_5=numero%5==0\n",
    "no_divisible_2=numero%2!=0\n",
    "verificacion=divisible_3 and divisible_5 and no_divisible_2\n",
    "print(verificacion)"
   ]
  },
  {
   "cell_type": "markdown",
   "id": "41cfc74a",
   "metadata": {},
   "source": [
    "## Cortocircuitos\n",
    "### AND"
   ]
  }
 ],
 "metadata": {
  "language_info": {
   "name": "python"
  }
 },
 "nbformat": 4,
 "nbformat_minor": 5
}
