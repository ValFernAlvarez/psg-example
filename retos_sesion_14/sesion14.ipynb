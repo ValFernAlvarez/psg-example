{
 "cells": [
  {
   "cell_type": "markdown",
   "id": "e989cc7d",
   "metadata": {},
   "source": [
    "# BLOQUES DE CÓDIGO\n",
    "## Funciones"
   ]
  },
  {
   "cell_type": "code",
   "execution_count": 1,
   "id": "6ba2709b",
   "metadata": {},
   "outputs": [],
   "source": [
    "def nombre_funcion():\n",
    "    print (\"Bloque de código\")"
   ]
  },
  {
   "cell_type": "code",
   "execution_count": 2,
   "id": "59d66321",
   "metadata": {},
   "outputs": [],
   "source": [
    "def nombre_funcion():\n",
    "    return \"Bloque de código\""
   ]
  },
  {
   "cell_type": "code",
   "execution_count": 3,
   "id": "fa5f6d1c",
   "metadata": {},
   "outputs": [
    {
     "name": "stdout",
     "output_type": "stream",
     "text": [
      "Bloque de código\n",
      "<class 'function'>\n"
     ]
    }
   ],
   "source": [
    "def nombre_funcion():\n",
    "    print (\"Bloque de código\")\n",
    "\n",
    "nombre_funcion()\n",
    "print (type(nombre_funcion))"
   ]
  },
  {
   "cell_type": "code",
   "execution_count": 4,
   "id": "51122236",
   "metadata": {},
   "outputs": [
    {
     "name": "stdout",
     "output_type": "stream",
     "text": [
      "Bloque de código\n"
     ]
    }
   ],
   "source": [
    "def nombre_funcion():\n",
    "    print (\"Bloque de código\")\n",
    "\n",
    "nombre_funcion()"
   ]
  },
  {
   "cell_type": "code",
   "execution_count": 5,
   "id": "2e28548d",
   "metadata": {},
   "outputs": [
    {
     "name": "stdout",
     "output_type": "stream",
     "text": [
      "Bloque de código\n"
     ]
    }
   ],
   "source": [
    "nombre_funcion()\n",
    "\n",
    "def nombre_funcion():\n",
    "    print (\"Bloque de código\")"
   ]
  },
  {
   "cell_type": "markdown",
   "id": "25026902",
   "metadata": {},
   "source": [
    "### Funciones sin argumentos y sin retorno"
   ]
  },
  {
   "cell_type": "code",
   "execution_count": 6,
   "id": "dc726611",
   "metadata": {},
   "outputs": [
    {
     "name": "stdout",
     "output_type": "stream",
     "text": [
      "Bloque de código\n"
     ]
    }
   ],
   "source": [
    "def funcion():\n",
    "    print (\"Bloque de código\")\n",
    "\n",
    "funcion()"
   ]
  },
  {
   "cell_type": "code",
   "execution_count": 7,
   "id": "f1f85336",
   "metadata": {},
   "outputs": [
    {
     "name": "stdout",
     "output_type": "stream",
     "text": [
      "Ejemplo 1\n",
      "1. Definir función\n",
      "2. Llamar función\n",
      "[0, 2, 4, 6, 8, 10, 12, 14, 16, 18, 20]\n",
      "[0, 2, 4, 6, 8, 10, 12, 14, 16, 18, 20]\n"
     ]
    }
   ],
   "source": [
    "print (\"Ejemplo 1\")\n",
    "print (\"1. Definir función\")\n",
    "def imprimir_pares():\n",
    "    pares = [i for i in range(0, 21, 2)]\n",
    "    print (pares)\n",
    "\n",
    "print (\"2. Llamar función\")\n",
    "imprimir_pares()\n",
    "imprimir_pares()"
   ]
  },
  {
   "cell_type": "code",
   "execution_count": 8,
   "id": "09e5ed8b",
   "metadata": {},
   "outputs": [
    {
     "name": "stdout",
     "output_type": "stream",
     "text": [
      "¡Hola y bienvenido al Python Study Group! ✨\n"
     ]
    }
   ],
   "source": [
    "def bienvenida():\n",
    "    mensajes = {\"Bienvenido al Python Study Group 🐍\",\n",
    "    \"¡Hola y bienvenido al Python Study Group! ✨\",\n",
    "    \"Hola, aprendamos Python juntos 🐍\"}\n",
    "    print (mensajes.pop())\n",
    "\n",
    "bienvenida()"
   ]
  },
  {
   "cell_type": "markdown",
   "id": "57aff41e",
   "metadata": {},
   "source": [
    "### Funciones sin argumentos y con un retorno"
   ]
  },
  {
   "cell_type": "code",
   "execution_count": 4,
   "id": "1b04416d",
   "metadata": {},
   "outputs": [
    {
     "name": "stdout",
     "output_type": "stream",
     "text": [
      "Bloque de código\n"
     ]
    }
   ],
   "source": [
    "def funcion():\n",
    "    return \"Bloque de código\"\n",
    "\n",
    "resultado = funcion()\n",
    "print (resultado)"
   ]
  },
  {
   "cell_type": "code",
   "execution_count": 9,
   "id": "b2d0b94f",
   "metadata": {},
   "outputs": [
    {
     "name": "stdout",
     "output_type": "stream",
     "text": [
      "Ejemplo 2\n",
      "1. Definir función\n",
      "2. Llamar función\n",
      "Bonjour\n"
     ]
    }
   ],
   "source": [
    "print (\"Ejemplo 2\")\n",
    "print (\"1. Definir función\")\n",
    "def saludo():\n",
    "    saludos = {\"Hola\", \"Hello\", \"Bonjour\", \"Ciao\"}\n",
    "    return saludos.pop()\n",
    "\n",
    "print (\"2. Llamar función\")\n",
    "resultado = saludo()\n",
    "print (resultado)"
   ]
  },
  {
   "cell_type": "code",
   "execution_count": 10,
   "id": "526dc125",
   "metadata": {},
   "outputs": [
    {
     "name": "stdout",
     "output_type": "stream",
     "text": [
      "🍇\n"
     ]
    }
   ],
   "source": [
    "def devolver_fruta():\n",
    "    frutas = {'🍅','🍌','🍎','🍇','🍉'}\n",
    "    return frutas.pop()\n",
    "\n",
    "fruta = devolver_fruta()\n",
    "print (fruta)"
   ]
  },
  {
   "cell_type": "markdown",
   "id": "8b7fdd7a",
   "metadata": {},
   "source": [
    "### Funciones sin argumentos y con múltiple retorno"
   ]
  },
  {
   "cell_type": "code",
   "execution_count": 11,
   "id": "f73cf055",
   "metadata": {},
   "outputs": [
    {
     "name": "stdout",
     "output_type": "stream",
     "text": [
      "('Bloque', 'de', 'código')\n"
     ]
    }
   ],
   "source": [
    "def funcion():\n",
    "    return \"Bloque\", \"de\", \"código\"\n",
    "\n",
    "resultado = funcion()\n",
    "print (resultado)"
   ]
  },
  {
   "cell_type": "code",
   "execution_count": 12,
   "id": "821d0ee3",
   "metadata": {},
   "outputs": [
    {
     "name": "stdout",
     "output_type": "stream",
     "text": [
      "Ejemplo 3\n",
      "1. Definir función\n",
      "2. Llamar función\n",
      "('Hola', 'Good morning')\n"
     ]
    }
   ],
   "source": [
    "print (\"Ejemplo 3\")\n",
    "print (\"1. Definir función\")\n",
    "def saludo():\n",
    "    saludos_es = {\"Hola\", \"Holi\", \"Buenos días\"}\n",
    "    saludos_en = {\"Hello\", \"Hi\", \"Good morning\"}\n",
    "    return saludos_es.pop(), saludos_en.pop()\n",
    "\n",
    "print (\"2. Llamar función\")\n",
    "resultado = saludo()\n",
    "print (resultado)"
   ]
  },
  {
   "cell_type": "code",
   "execution_count": 13,
   "id": "389470b9",
   "metadata": {},
   "outputs": [
    {
     "name": "stdout",
     "output_type": "stream",
     "text": [
      "🍇 🟠\n"
     ]
    }
   ],
   "source": [
    "def devolver_fruta_color():\n",
    "    frutas = {'🍅','🍌','🍎','🍇','🍉'}\n",
    "    colores = {'🔴','🟠','🟡','🟢','🔵'}\n",
    "    return frutas.pop(), colores.pop()\n",
    "\n",
    "fruta, color = devolver_fruta_color()\n",
    "print (fruta, color)"
   ]
  },
  {
   "cell_type": "markdown",
   "id": "6f2a287b",
   "metadata": {},
   "source": [
    "### Funciones con un argumento y sin retorno"
   ]
  },
  {
   "cell_type": "code",
   "execution_count": 14,
   "id": "52d33a7a",
   "metadata": {},
   "outputs": [
    {
     "name": "stdout",
     "output_type": "stream",
     "text": [
      "Bloque de código\n"
     ]
    }
   ],
   "source": [
    "def funcion(parametro):\n",
    "    print (parametro)\n",
    "\n",
    "funcion(\"Bloque de código\") #1 Argumento"
   ]
  },
  {
   "cell_type": "code",
   "execution_count": 15,
   "id": "f94dec5d",
   "metadata": {},
   "outputs": [
    {
     "name": "stdout",
     "output_type": "stream",
     "text": [
      "Ejemplo 4\n",
      "1. Definir función\n",
      "2. Llamar función\n",
      "25\n",
      "100\n"
     ]
    }
   ],
   "source": [
    "print (\"Ejemplo 4\")\n",
    "print (\"1. Definir función\")\n",
    "def cuadrado(numero):\n",
    "    print (numero**2)\n",
    "\n",
    "print (\"2. Llamar función\")\n",
    "cuadrado(5)\n",
    "cuadrado(10)"
   ]
  },
  {
   "cell_type": "code",
   "execution_count": 16,
   "id": "25f64faa",
   "metadata": {},
   "outputs": [
    {
     "name": "stdout",
     "output_type": "stream",
     "text": [
      "Bienvenido al Python Study Group 🐍\n",
      "Hello and welcome to the Python Study Group! ✨\n",
      "¡Hola!\n"
     ]
    }
   ],
   "source": [
    "def bienvenida(idioma):\n",
    "    mensajes = {\n",
    "        \"es\":\"Bienvenido al Python Study Group 🐍\",\n",
    "        \"en\": \"Hello and welcome to the Python Study Group! ✨\",\n",
    "    }\n",
    "    print (mensajes.get(idioma, \"¡Hola!\"))\n",
    "\n",
    "bienvenida(\"es\")\n",
    "bienvenida(\"en\")\n",
    "bienvenida(\"fr\")"
   ]
  },
  {
   "cell_type": "markdown",
   "id": "d0a1ecfb",
   "metadata": {},
   "source": [
    "### Funciones con múltiples argumentos y sin retorno"
   ]
  },
  {
   "cell_type": "code",
   "execution_count": 6,
   "id": "b7817015",
   "metadata": {},
   "outputs": [
    {
     "name": "stdout",
     "output_type": "stream",
     "text": [
      "Bloque de código\n"
     ]
    }
   ],
   "source": [
    "def funcion(param1, param2, param3):\n",
    "    print (param1, param2, param3)\n",
    "\n",
    "funcion(\"Bloque\", \"de\", \"código\")"
   ]
  },
  {
   "cell_type": "code",
   "execution_count": 18,
   "id": "ae23ec02",
   "metadata": {},
   "outputs": [
    {
     "name": "stdout",
     "output_type": "stream",
     "text": [
      "Ejemplo 5\n",
      "1. Definir función\n",
      "2. Llamar función\n",
      "✨🎉✨🎉✨🎉✨🎉✨🎉✨🎉✨🎉✨🎉✨🎉✨🎉\n"
     ]
    }
   ],
   "source": [
    "print (\"Ejemplo 5\")\n",
    "print (\"1. Definir función\")\n",
    "def repetir(cadena, veces):\n",
    "    print (cadena*veces)\n",
    "\n",
    "print (\"2. Llamar función\")\n",
    "repetir(\"✨🎉\", 10)"
   ]
  },
  {
   "cell_type": "code",
   "execution_count": 19,
   "id": "a95b36b7",
   "metadata": {},
   "outputs": [
    {
     "name": "stdout",
     "output_type": "stream",
     "text": [
      "['🐶🐶🐶', '🐱🐱🐱', '🐭🐭🐭', '🐹🐹🐹', '🐰🐰🐰']\n",
      "('Hola', 'Good morning')\n"
     ]
    }
   ],
   "source": [
    "def repetir_animales(animales, veces):\n",
    "    lista = [animal*veces for animal in animales]\n",
    "    print (lista)\n",
    "\n",
    "animales = ['🐶','🐱','🐭','🐹','🐰']\n",
    "repetir_animales(animales, 3)\n",
    "\n",
    "print (resultado)"
   ]
  },
  {
   "cell_type": "markdown",
   "id": "b6ce13dd",
   "metadata": {},
   "source": [
    "### Funciones con múltiples argumentos y con un retorno"
   ]
  },
  {
   "cell_type": "code",
   "execution_count": 20,
   "id": "aecbe981",
   "metadata": {},
   "outputs": [
    {
     "name": "stdout",
     "output_type": "stream",
     "text": [
      "Bloque\n"
     ]
    }
   ],
   "source": [
    "def funcion(param1, param2, paramN):\n",
    "    return param1\n",
    "\n",
    "resultado = funcion(\"Bloque\", \"de\", \"código\")\n",
    "print (resultado)"
   ]
  },
  {
   "cell_type": "code",
   "execution_count": 21,
   "id": "d61bbecd",
   "metadata": {},
   "outputs": [
    {
     "name": "stdout",
     "output_type": "stream",
     "text": [
      "Ejemplo 6\n",
      "1. Definir función\n",
      "2. Llamar función\n",
      "[15, 5, 50, 2.0]\n"
     ]
    }
   ],
   "source": [
    "print (\"Ejemplo 6\")\n",
    "print (\"1. Definir función\")\n",
    "def operaciones(numero1, numero2):\n",
    "    suma = numero1 + numero2\n",
    "    resta = numero1 - numero2\n",
    "    multiplicacion = numero1 * numero2\n",
    "    division = numero1 / numero2\n",
    "    return [suma, resta, multiplicacion, division]\n",
    "\n",
    "print (\"2. Llamar función\")\n",
    "resultado = operaciones(10, 5)\n",
    "print (resultado)"
   ]
  },
  {
   "cell_type": "code",
   "execution_count": 22,
   "id": "8bf59a38",
   "metadata": {},
   "outputs": [
    {
     "name": "stdout",
     "output_type": "stream",
     "text": [
      "15\n"
     ]
    }
   ],
   "source": [
    "def operacion(numero1, numero2, operacion):\n",
    "    if operacion == \"suma\":\n",
    "        return numero1 + numero2\n",
    "    elif operacion == \"resta\":\n",
    "        return numero1 - numero2\n",
    "    elif operacion == \"multiplicacion\":\n",
    "        return numero1 * numero2\n",
    "    elif operacion == \"division\":\n",
    "        return numero1 / numero2\n",
    "    else:\n",
    "        return \"Operación no válida\"\n",
    "\n",
    "resultado = operacion(10, 5, \"suma\")\n",
    "print (resultado)"
   ]
  },
  {
   "cell_type": "markdown",
   "id": "7b553017",
   "metadata": {},
   "source": [
    "### Funciones con múltiples argumentos y con múltiple retorno"
   ]
  },
  {
   "cell_type": "code",
   "execution_count": 23,
   "id": "a4577db1",
   "metadata": {},
   "outputs": [
    {
     "name": "stdout",
     "output_type": "stream",
     "text": [
      "('Bloque', 'de', 'código')\n"
     ]
    }
   ],
   "source": [
    "def funcion(param1, param2,param3):\n",
    "    return param1, param2, param3\n",
    "\n",
    "resultado = funcion(\"Bloque\", \"de\", \"código\")\n",
    "print (resultado)"
   ]
  },
  {
   "cell_type": "code",
   "execution_count": 24,
   "id": "a46b295b",
   "metadata": {},
   "outputs": [
    {
     "name": "stdout",
     "output_type": "stream",
     "text": [
      "Ejemplo 7\n",
      "1. Definir función\n",
      "2. Llamar función\n",
      "15 5 50 2.0\n"
     ]
    }
   ],
   "source": [
    "print (\"Ejemplo 7\")\n",
    "print (\"1. Definir función\")\n",
    "def operaciones(numero1, numero2):\n",
    "    suma = numero1 + numero2\n",
    "    resta = numero1 - numero2\n",
    "    multiplicacion = numero1 * numero2\n",
    "    division = numero1 / numero2\n",
    "    return suma, resta, multiplicacion, division\n",
    "\n",
    "print (\"2. Llamar función\")\n",
    "suma, resta, multiplicacion, division = operaciones(10, 5)\n",
    "print (suma, resta, multiplicacion, division)"
   ]
  },
  {
   "cell_type": "code",
   "execution_count": 25,
   "id": "782efcb8",
   "metadata": {},
   "outputs": [],
   "source": [
    "def jugar_piedra_papel_tijera(jugada1, jugada2):\n",
    "    if jugada1 == jugada2:\n",
    "        resultado = \"Empate\"\n",
    "    elif jugada1 == \"piedra\" and jugada2 == \"tijera\":\n",
    "        resultado = \"Jugador 1 gana\"\n",
    "    elif jugada1 == \"papel\" and jugada2 == \"piedra\":\n",
    "        resultado = \"Jugador 1 gana\"\n",
    "    elif jugada1 == \"tijera\" and jugada2 == \"papel\":\n",
    "        resultado = \"Jugador 1 gana\"\n",
    "    else:\n",
    "        resultado = \"Jugador 2 gana\"\n",
    "    return jugada1, jugada2, resultado\n",
    "\n",
    "while True:\n",
    "    jugador1 = input(\"Jugador 1: \")\n",
    "    if jugador1 == \"salir\":\n",
    "        break\n",
    "    jugador2 = input(\"Jugador 2: \")\n",
    "    if jugador2 == \"salir\":\n",
    "        break\n",
    "    resultado = jugar_piedra_papel_tijera(jugador1, jugador2)\n",
    "    print (resultado)"
   ]
  },
  {
   "cell_type": "markdown",
   "id": "3f3e2f6a",
   "metadata": {},
   "source": [
    "## Variables Globales y Locales"
   ]
  },
  {
   "cell_type": "code",
   "execution_count": 26,
   "id": "c3244315",
   "metadata": {},
   "outputs": [
    {
     "name": "stdout",
     "output_type": "stream",
     "text": [
      "✨ Variable global\n",
      "✨ Variable local\n",
      "🎈 Variable global\n"
     ]
    },
    {
     "ename": "NameError",
     "evalue": "name 'variable_local' is not defined",
     "output_type": "error",
     "traceback": [
      "\u001b[31m---------------------------------------------------------------------------\u001b[39m",
      "\u001b[31mNameError\u001b[39m                                 Traceback (most recent call last)",
      "\u001b[36mCell\u001b[39m\u001b[36m \u001b[39m\u001b[32mIn[26]\u001b[39m\u001b[32m, line 10\u001b[39m\n\u001b[32m      8\u001b[39m funcion()\n\u001b[32m      9\u001b[39m \u001b[38;5;28mprint\u001b[39m (\u001b[33m\"\u001b[39m\u001b[33m🎈\u001b[39m\u001b[33m\"\u001b[39m,variable_global)\n\u001b[32m---> \u001b[39m\u001b[32m10\u001b[39m \u001b[38;5;28mprint\u001b[39m (\u001b[33m\"\u001b[39m\u001b[33m🎈\u001b[39m\u001b[33m\"\u001b[39m,\u001b[43mvariable_local\u001b[49m)\n",
      "\u001b[31mNameError\u001b[39m: name 'variable_local' is not defined"
     ]
    }
   ],
   "source": [
    "variable_global = \"Variable global\"\n",
    "\n",
    "def funcion():\n",
    "    variable_local = \"Variable local\"\n",
    "    print (\"✨\",variable_global)\n",
    "    print (\"✨\",variable_local)\n",
    "\n",
    "funcion()\n",
    "print (\"🎈\",variable_global)\n",
    "print (\"🎈\",variable_local)"
   ]
  },
  {
   "cell_type": "markdown",
   "id": "d16eb898",
   "metadata": {},
   "source": [
    "### Prioridad"
   ]
  },
  {
   "cell_type": "code",
   "execution_count": 27,
   "id": "174a1297",
   "metadata": {},
   "outputs": [
    {
     "name": "stdout",
     "output_type": "stream",
     "text": [
      "0. Variable global\n",
      "1. Variable local\n",
      "2. Variable global\n"
     ]
    }
   ],
   "source": [
    "variable = \"Variable global\"\n",
    "print ('0.',variable)\n",
    "\n",
    "def funcion():\n",
    "    variable = \"Variable local\"\n",
    "    print ('1.',variable)\n",
    "\n",
    "funcion()\n",
    "print ('2.',variable)"
   ]
  },
  {
   "cell_type": "code",
   "execution_count": 28,
   "id": "e7e14925",
   "metadata": {},
   "outputs": [
    {
     "name": "stdout",
     "output_type": "stream",
     "text": [
      "(30, 5)\n"
     ]
    }
   ],
   "source": [
    "numeros = [10, 5, 20, 15, 25, 30] #Global\n",
    "\n",
    "def mayor_menor(): #No recibe argumentos\n",
    "    mayor = max(numeros) #Local\n",
    "    menor = min(numeros) #Local\n",
    "    return mayor, menor #Devuelve dos valores\n",
    "\n",
    "resultado = mayor_menor()\n",
    "print (resultado)"
   ]
  },
  {
   "cell_type": "code",
   "execution_count": 29,
   "id": "6a24eb22",
   "metadata": {},
   "outputs": [
    {
     "name": "stdout",
     "output_type": "stream",
     "text": [
      "('Python Es Un Lenguaje De Programación', 10)\n"
     ]
    }
   ],
   "source": [
    "def formato_vocales():\n",
    "    titulo = cadena.title()\n",
    "    vocales = sum([1 for letra in titulo if letra in \"aeiou\"])\n",
    "    return titulo, vocales\n",
    "\n",
    "cadena = \"python es un lenguaje de programación\"\n",
    "resultado = formato_vocales()\n",
    "\n",
    "print (resultado)"
   ]
  },
  {
   "cell_type": "markdown",
   "id": "c366f9b1",
   "metadata": {},
   "source": [
    "## Args y Kwargs\n",
    "### Argas"
   ]
  },
  {
   "cell_type": "code",
   "execution_count": 30,
   "id": "1ed2be37",
   "metadata": {},
   "outputs": [
    {
     "name": "stdout",
     "output_type": "stream",
     "text": [
      "('Bloque', 'de', 'código')\n",
      "<class 'tuple'>\n"
     ]
    }
   ],
   "source": [
    "def funcion(*args):\n",
    "    print (args)\n",
    "    print (type(args))\n",
    "\n",
    "funcion(\"Bloque\", \"de\", \"código\")"
   ]
  },
  {
   "cell_type": "code",
   "execution_count": 31,
   "id": "e7db4351",
   "metadata": {},
   "outputs": [
    {
     "name": "stdout",
     "output_type": "stream",
     "text": [
      "Ejemplo 9\n",
      "1. Definir función\n",
      "2. Llamar función\n",
      "🍎🍌🍍🍎🍌🍍🍎🍌🍍\n"
     ]
    }
   ],
   "source": [
    "print (\"Ejemplo 9\")\n",
    "print (\"1. Definir función\")\n",
    "def concatenar(numero, *cadenas):\n",
    "    concatenado = \"\"\n",
    "    for cadena in cadenas:\n",
    "        concatenado += cadena\n",
    "    return concatenado*numero\n",
    "\n",
    "print (\"2. Llamar función\")\n",
    "resultado = concatenar(3, \"🍎\", \"🍌\", \"🍍\")\n",
    "print (resultado)"
   ]
  },
  {
   "cell_type": "code",
   "execution_count": 32,
   "id": "d7c2861d",
   "metadata": {},
   "outputs": [
    {
     "name": "stdout",
     "output_type": "stream",
     "text": [
      "(1, 1.1, True, '🍎')\n",
      "[1, 1.1, True, '🍎']\n"
     ]
    }
   ],
   "source": [
    "def tupla_lista(*args):\n",
    "    tupla = tuple(args)\n",
    "    lista = list(args)\n",
    "    return tupla, lista\n",
    "\n",
    "lista, tupla = tupla_lista(1, 1.1, True, \"🍎\")\n",
    "\n",
    "print (lista)\n",
    "print (tupla)"
   ]
  },
  {
   "cell_type": "markdown",
   "id": "8c56524b",
   "metadata": {},
   "source": [
    "### Kwargs"
   ]
  },
  {
   "cell_type": "code",
   "execution_count": 33,
   "id": "a3d80a7d",
   "metadata": {},
   "outputs": [
    {
     "name": "stdout",
     "output_type": "stream",
     "text": [
      "{'nombre': 'Jhon', 'apellido': 'Doe', 'genero': 'M'}\n",
      "<class 'dict'>\n"
     ]
    }
   ],
   "source": [
    "def funcion(**kwargs):\n",
    "    print (kwargs)\n",
    "    print (type(kwargs))\n",
    "\n",
    "funcion(nombre=\"Jhon\", apellido=\"Doe\", genero=\"M\")"
   ]
  },
  {
   "cell_type": "code",
   "execution_count": 34,
   "id": "1fa2c676",
   "metadata": {},
   "outputs": [
    {
     "name": "stdout",
     "output_type": "stream",
     "text": [
      "Ejemplo 10\n",
      "1. Definir función\n",
      "2. Llamar función\n",
      "Nombre: JHON\n",
      "Apellido: DOE\n",
      "Edad: 20\n",
      "Boliviano: TRUE\n",
      "\n"
     ]
    }
   ],
   "source": [
    "print (\"Ejemplo 10\")\n",
    "print (\"1. Definir función\")\n",
    "def datos_persona(**datos):\n",
    "    mensaje = \"\"\n",
    "    for clave, valor in datos.items():\n",
    "        mensaje += f\"{str(clave).title()}: {str(valor).upper()}\\n\"\n",
    "    return mensaje\n",
    "print (\"2. Llamar función\")\n",
    "resultado = datos_persona(nombre=\"Jhon\", apellido=\"Doe\", edad=20, boliviano=True)\n",
    "print (resultado)"
   ]
  },
  {
   "cell_type": "code",
   "execution_count": 35,
   "id": "77daf149",
   "metadata": {},
   "outputs": [
    {
     "name": "stdout",
     "output_type": "stream",
     "text": [
      "plato: 5 minutos\n",
      "vaso: 3 minutos\n",
      "tenedor: 1 minutos\n",
      "cuchara: 0.5 minutos\n",
      "Tiempo total: 9.5 minutos\n"
     ]
    }
   ],
   "source": [
    "def lavar(**objetos):\n",
    "    tiempo_total = 0\n",
    "    mensaje = \"\"\n",
    "    for objeto, tiempo in objetos.items():\n",
    "        tiempo_total += tiempo\n",
    "        mensaje += f\"{objeto}: {tiempo} minutos\\n\"\n",
    "    mensaje += f\"Tiempo total: {tiempo_total} minutos\"\n",
    "    return mensaje\n",
    "\n",
    "resultado = lavar(plato=5, vaso=3, tenedor=1, cuchara=0.5)\n",
    "print (resultado)"
   ]
  },
  {
   "cell_type": "markdown",
   "id": "453109e0",
   "metadata": {},
   "source": [
    "## Documentación de Funciones"
   ]
  },
  {
   "cell_type": "code",
   "execution_count": 36,
   "id": "6e9a70b5",
   "metadata": {},
   "outputs": [],
   "source": [
    "def funcion():\n",
    "    \"\"\"\n",
    "    Documentación aquí\n",
    "    \"\"\"\n",
    "    print (\"Bloque de código\")"
   ]
  },
  {
   "cell_type": "code",
   "execution_count": 37,
   "id": "1276ace3",
   "metadata": {},
   "outputs": [
    {
     "name": "stdout",
     "output_type": "stream",
     "text": [
      "Acceso a la documentación\n",
      "\n",
      "Documentación aquí\n",
      "\n",
      "Fin de la ejecución\n"
     ]
    }
   ],
   "source": [
    "print (\"Acceso a la documentación\")\n",
    "def funcion():\n",
    "    \"\"\"\n",
    "    Documentación aquí\n",
    "    \"\"\"\n",
    "    print (\"Bloque de código\")\n",
    "print (funcion.__doc__)\n",
    "print (\"Fin de la ejecución\")"
   ]
  },
  {
   "cell_type": "markdown",
   "id": "a4312217",
   "metadata": {},
   "source": [
    "## Llamado de Funciones Dentro de Funciones"
   ]
  },
  {
   "cell_type": "code",
   "execution_count": 38,
   "id": "e5fa19fe",
   "metadata": {},
   "outputs": [
    {
     "name": "stdout",
     "output_type": "stream",
     "text": [
      "Ejemplo 11\n",
      "1. Definir función Principal\n",
      "2. Definir función Cuadrado\n",
      "3. Definir función Cubo\n",
      "4. Llamar función Principal\n",
      "5 (25, 125)\n"
     ]
    }
   ],
   "source": [
    "print (\"Ejemplo 11\")\n",
    "print (\"1. Definir función Principal\")\n",
    "def principal(numero):\n",
    "    cuadrado = cuadrado_numero(numero)\n",
    "    cubo = cubo_numero(numero)\n",
    "    return cuadrado, cubo\n",
    "\n",
    "print (\"2. Definir función Cuadrado\")\n",
    "def cuadrado_numero(numero):\n",
    "    return numero**2\n",
    "\n",
    "print (\"3. Definir función Cubo\")\n",
    "def cubo_numero(numero):\n",
    "    return numero**3\n",
    "\n",
    "print (\"4. Llamar función Principal\")\n",
    "numero = 5\n",
    "resultado = principal(numero)\n",
    "print (numero, resultado)"
   ]
  },
  {
   "cell_type": "code",
   "execution_count": 39,
   "id": "b2115b59",
   "metadata": {},
   "outputs": [
    {
     "name": "stdout",
     "output_type": "stream",
     "text": [
      "Python es un lenguaje de programación 🎈. Feliz Aprendizaje el 2025\n",
      "PYTHONESUNLENGUAJEDEPROGRAMACIÓNFELIZAPRENDIZAJEEL\n"
     ]
    }
   ],
   "source": [
    "def limpiar_letras(cadena):\n",
    "    \"\"\"\n",
    "    Elimina los números de una cadena y espacios\n",
    "    \"\"\"\n",
    "    return \"\".join([letra for letra in cadena if letra.isalpha()])\n",
    "def limpiar_mayusculas(cadena):\n",
    "    \"\"\"\n",
    "    Convierte una cadena en mayúsculas\n",
    "    \"\"\"\n",
    "    return cadena.upper()\n",
    "\n",
    "def limpiar(cadena):\n",
    "    cadena = limpiar_letras(cadena)\n",
    "    cadena = limpiar_mayusculas(cadena)\n",
    "    return cadena\n",
    "\n",
    "cadena = \"Python es un lenguaje de programación 🎈. Feliz Aprendizaje el 2025\"\n",
    "resultado = limpiar(cadena)\n",
    "print (cadena)\n",
    "print (resultado)"
   ]
  },
  {
   "cell_type": "markdown",
   "id": "81cffaad",
   "metadata": {},
   "source": [
    "## Funciones Recursivas"
   ]
  },
  {
   "cell_type": "code",
   "execution_count": 40,
   "id": "f517f6b4",
   "metadata": {},
   "outputs": [],
   "source": [
    "def funcion_recursiva(valor):\n",
    "    if caso_base:\n",
    "        return valor\n",
    "    else:\n",
    "        return funcion_recursiva(valor)"
   ]
  },
  {
   "cell_type": "code",
   "execution_count": 41,
   "id": "9703c6ba",
   "metadata": {},
   "outputs": [
    {
     "name": "stdout",
     "output_type": "stream",
     "text": [
      "Ejemplo 12\n",
      "1. Definir función\n",
      "2. Llamar función\n",
      "20\n"
     ]
    }
   ],
   "source": [
    "print (\"Ejemplo 12\")\n",
    "print (\"1. Definir función\")\n",
    "def numero_par(numero):\n",
    "    if numero == 0:\n",
    "        return 0\n",
    "    else:\n",
    "        return numero_par(numero-1) + 2\n",
    "\n",
    "print (\"2. Llamar función\")\n",
    "resultado = numero_par(10)\n",
    "print (resultado)"
   ]
  },
  {
   "cell_type": "code",
   "execution_count": 42,
   "id": "74c64762",
   "metadata": {},
   "outputs": [
    {
     "name": "stdout",
     "output_type": "stream",
     "text": [
      "120\n"
     ]
    }
   ],
   "source": [
    "def factorial(numero):\n",
    "    if numero == 0:\n",
    "        return 1\n",
    "    else:\n",
    "        return numero*factorial(numero-1)\n",
    "\n",
    "resultado = factorial(5)\n",
    "print (resultado)"
   ]
  },
  {
   "cell_type": "markdown",
   "id": "61dc3fc2",
   "metadata": {},
   "source": [
    "## Funciones Anónimas o Lambda"
   ]
  },
  {
   "cell_type": "code",
   "execution_count": 43,
   "id": "99b1becf",
   "metadata": {},
   "outputs": [
    {
     "name": "stdout",
     "output_type": "stream",
     "text": [
      "Ejemplo 13\n",
      "25\n",
      "100\n"
     ]
    }
   ],
   "source": [
    "print (\"Ejemplo 13\")\n",
    "cuadrado = lambda numero: numero**2\n",
    "resultado = cuadrado(5)\n",
    "print (resultado)\n",
    "resultado = cuadrado(10)\n",
    "print (resultado)"
   ]
  },
  {
   "cell_type": "code",
   "execution_count": 44,
   "id": "d94314c6",
   "metadata": {},
   "outputs": [
    {
     "name": "stdout",
     "output_type": "stream",
     "text": [
      "Python es un lenguaje de programación\n",
      "PYTHONESUNLENGUAJEDEPROGRAMACIÓN\n"
     ]
    }
   ],
   "source": [
    "cadena = \"Python es un lenguaje de programación\"\n",
    "limpiar = lambda cadena: \"\".join([letra for letra in cadena if letra.isalnum()]).upper()\n",
    "resultado = limpiar(cadena)\n",
    "print (cadena)\n",
    "print (resultado)"
   ]
  }
 ],
 "metadata": {
  "kernelspec": {
   "display_name": "Python 3",
   "language": "python",
   "name": "python3"
  },
  "language_info": {
   "codemirror_mode": {
    "name": "ipython",
    "version": 3
   },
   "file_extension": ".py",
   "mimetype": "text/x-python",
   "name": "python",
   "nbconvert_exporter": "python",
   "pygments_lexer": "ipython3",
   "version": "3.13.3"
  }
 },
 "nbformat": 4,
 "nbformat_minor": 5
}
